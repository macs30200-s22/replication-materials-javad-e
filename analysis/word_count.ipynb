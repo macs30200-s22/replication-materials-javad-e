{
 "cells": [
  {
   "cell_type": "code",
   "execution_count": 1,
   "id": "b2b2540e",
   "metadata": {},
   "outputs": [],
   "source": [
    "import csv\n",
    "import pandas as pd\n",
    "import numpy as np\n",
    "import matplotlib.pyplot as plt\n",
    "import seaborn as sns\n",
    "import math\n",
    "import ast\n",
    "\n",
    "from scipy.interpolate import make_interp_spline\n",
    "\n",
    "%matplotlib inline"
   ]
  },
  {
   "cell_type": "code",
   "execution_count": 2,
   "id": "7ff7541f",
   "metadata": {},
   "outputs": [],
   "source": [
    "speeches = pd.read_csv(\"../data/cleaned_speeches.csv\", sep='\\t', index_col=0)"
   ]
  },
  {
   "cell_type": "code",
   "execution_count": 3,
   "id": "959e3c9b",
   "metadata": {},
   "outputs": [
    {
     "data": {
      "text/html": [
       "<div>\n",
       "<style scoped>\n",
       "    .dataframe tbody tr th:only-of-type {\n",
       "        vertical-align: middle;\n",
       "    }\n",
       "\n",
       "    .dataframe tbody tr th {\n",
       "        vertical-align: top;\n",
       "    }\n",
       "\n",
       "    .dataframe thead th {\n",
       "        text-align: right;\n",
       "    }\n",
       "</style>\n",
       "<table border=\"1\" class=\"dataframe\">\n",
       "  <thead>\n",
       "    <tr style=\"text-align: right;\">\n",
       "      <th></th>\n",
       "      <th>year</th>\n",
       "      <th>speaker</th>\n",
       "      <th>speech</th>\n",
       "      <th>n_words</th>\n",
       "    </tr>\n",
       "  </thead>\n",
       "  <tbody>\n",
       "    <tr>\n",
       "      <th>407</th>\n",
       "      <td>1394</td>\n",
       "      <td>موحدی</td>\n",
       "      <td>['خطيب', 'موقت', 'نماز', 'جمعه', 'تهران', 'بيا...</td>\n",
       "      <td>1264</td>\n",
       "    </tr>\n",
       "    <tr>\n",
       "      <th>408</th>\n",
       "      <td>1394</td>\n",
       "      <td>صدیقی</td>\n",
       "      <td>['خطيب', 'نماز', 'جمعه', 'تهران', 'تصريح', 'کر...</td>\n",
       "      <td>1338</td>\n",
       "    </tr>\n",
       "    <tr>\n",
       "      <th>409</th>\n",
       "      <td>1394</td>\n",
       "      <td>موحدی</td>\n",
       "      <td>['آيت', 'الله', 'موحدي', 'کرماني', 'تأکيد', 'ا...</td>\n",
       "      <td>1047</td>\n",
       "    </tr>\n",
       "    <tr>\n",
       "      <th>410</th>\n",
       "      <td>1394</td>\n",
       "      <td>صدیقی</td>\n",
       "      <td>['خطيب', 'نماز', 'جمعه', 'هفته', 'تهران', 'ذات...</td>\n",
       "      <td>1616</td>\n",
       "    </tr>\n",
       "    <tr>\n",
       "      <th>411</th>\n",
       "      <td>1394</td>\n",
       "      <td>جنتی</td>\n",
       "      <td>['آيت', 'الله', 'احمد', 'جنتي', 'برجام', 'تلقي...</td>\n",
       "      <td>1249</td>\n",
       "    </tr>\n",
       "  </tbody>\n",
       "</table>\n",
       "</div>"
      ],
      "text/plain": [
       "     year speaker                                             speech  n_words\n",
       "407  1394   موحدی  ['خطيب', 'موقت', 'نماز', 'جمعه', 'تهران', 'بيا...     1264\n",
       "408  1394   صدیقی  ['خطيب', 'نماز', 'جمعه', 'تهران', 'تصريح', 'کر...     1338\n",
       "409  1394   موحدی  ['آيت', 'الله', 'موحدي', 'کرماني', 'تأکيد', 'ا...     1047\n",
       "410  1394   صدیقی  ['خطيب', 'نماز', 'جمعه', 'هفته', 'تهران', 'ذات...     1616\n",
       "411  1394    جنتی  ['آيت', 'الله', 'احمد', 'جنتي', 'برجام', 'تلقي...     1249"
      ]
     },
     "execution_count": 3,
     "metadata": {},
     "output_type": "execute_result"
    }
   ],
   "source": [
    "speeches.tail()"
   ]
  },
  {
   "cell_type": "code",
   "execution_count": 4,
   "id": "dd72a4b8",
   "metadata": {},
   "outputs": [],
   "source": [
    "def count_instances(df, word):\n",
    "    counter = 0\n",
    "    n_words_mean = df['n_words'].mean()\n",
    "    for i in range(len(df)):\n",
    "        row = df.iloc[i]\n",
    "        for w in ast.literal_eval(row['speech']):\n",
    "            if word in w:\n",
    "                counter = counter + 1\n",
    "    return counter/n_words_mean*1000"
   ]
  },
  {
   "cell_type": "code",
   "execution_count": 20,
   "id": "f5a3a59d",
   "metadata": {},
   "outputs": [
    {
     "data": {
      "text/plain": [
       "[1387, 1388, 1389, 1390, 1392, 1393, 1394, 1395, 1396, 1397, 1398, 1400]"
      ]
     },
     "execution_count": 20,
     "metadata": {},
     "output_type": "execute_result"
    }
   ],
   "source": [
    "YEARS = list(range(1387, 1391)) + list(range(1392, 1399)) + [1400]\n",
    "YEARS"
   ]
  },
  {
   "cell_type": "code",
   "execution_count": 23,
   "id": "545636d7",
   "metadata": {},
   "outputs": [],
   "source": [
    "def annual_freq(word):\n",
    "    freqs = []\n",
    "    for year in YEARS:\n",
    "        word_count = count_instances(speeches[speeches['year']==year], word)\n",
    "        freqs.append(word_count / len(speeches[speeches['year']==year]))\n",
    "    \n",
    "    return freqs"
   ]
  },
  {
   "cell_type": "code",
   "execution_count": 24,
   "id": "17231003",
   "metadata": {},
   "outputs": [
    {
     "data": {
      "text/plain": [
       "[0.07844983133286264,\n",
       " 0.042448650398221405,\n",
       " 0.02613240418118467,\n",
       " 0.01391304347826087,\n",
       " 0.052254794377384124,\n",
       " 0.05082333807684489,\n",
       " 0.0,\n",
       " 0.0818464560484531,\n",
       " 0.14575842969585073,\n",
       " 0.0,\n",
       " 0.33016091756025434,\n",
       " 0.039447731755424056]"
      ]
     },
     "execution_count": 24,
     "metadata": {},
     "output_type": "execute_result"
    }
   ],
   "source": [
    "annual_freq('خامنه')"
   ]
  },
  {
   "cell_type": "code",
   "execution_count": 25,
   "id": "b8c216d3",
   "metadata": {},
   "outputs": [],
   "source": [
    "def categorical_freqs(category_w):\n",
    "    all_freqs = [0] * len(YEARS)\n",
    "    for w in category_w:\n",
    "        single_w_freqs = annual_freq(w)\n",
    "        for i, f in enumerate(single_w_freqs):\n",
    "            all_freqs[i] = all_freqs[i] + f\n",
    "    \n",
    "    for i, _ in enumerate(all_freqs):\n",
    "            all_freqs[i] = all_freqs[i] / len(category_w)\n",
    "            \n",
    "    return all_freqs"
   ]
  },
  {
   "cell_type": "code",
   "execution_count": 31,
   "id": "e0c56055",
   "metadata": {},
   "outputs": [],
   "source": [
    "def plot_freqs(title, freqs):\n",
    "    X_Y_Spline = make_interp_spline(YEARS, freqs)\n",
    "    X_ = np.linspace(YEARS[0], YEARS[-1], 500)\n",
    "    Y_ = X_Y_Spline(X_)\n",
    "    plt.plot(X_, Y_)\n",
    "    plt.axvline(x=1392, linestyle='dotted', label='Election')\n",
    "    plt.axvline(x=1396, linestyle='dotted')\n",
    "    plt.axvline(x=1400, linestyle='dotted')\n",
    "    plt.title(title)\n",
    "    plt.xlabel(\"Years\")\n",
    "    plt.ylabel(\"Frequency\")"
   ]
  },
  {
   "cell_type": "code",
   "execution_count": 27,
   "id": "0c76548f",
   "metadata": {},
   "outputs": [],
   "source": [
    "economic_w = ['گرانی', 'تورم', 'اقتصاد', 'تحریم' , 'فقر', 'قیمت', 'بورس', 'مالیات']\n",
    "economic_freqs = categorical_freqs(economic_w)"
   ]
  },
  {
   "cell_type": "code",
   "execution_count": 32,
   "id": "b5dc7e7b",
   "metadata": {},
   "outputs": [
    {
     "data": {
      "image/png": "[encoded data removed]",
      "text/plain": [
       "<Figure size 432x288 with 1 Axes>"
      ]
     },
     "metadata": {
      "needs_background": "light"
     },
     "output_type": "display_data"
    }
   ],
   "source": [
    "plot_freqs('Attention to Economic Topics', economic_freqs)"
   ]
  },
  {
   "cell_type": "code",
   "execution_count": 33,
   "id": "2d4f975b",
   "metadata": {},
   "outputs": [],
   "source": [
    "unpragmatic_w = ['مقاومتی', 'بانک', 'کفایی', 'مشت', 'دهان', 'شکستن', 'هسته']\n",
    "unpragmatic_freqs = categorical_freqs(unpragmatic_w)"
   ]
  },
  {
   "cell_type": "code",
   "execution_count": 14,
   "id": "7a52eef8",
   "metadata": {},
   "outputs": [
    {
     "data": {
      "image/png": "[encoded data removed]",
      "text/plain": [
       "<Figure size 432x288 with 1 Axes>"
      ]
     },
     "metadata": {
      "needs_background": "light"
     },
     "output_type": "display_data"
    }
   ],
   "source": [
    "plot_freqs('Promoting Unpragmatic Policies', unpragmatic_freqs)"
   ]
  },
  {
   "cell_type": "code",
   "execution_count": 35,
   "id": "2d675754",
   "metadata": {},
   "outputs": [],
   "source": [
    "socialist_w = ['بیمه', 'جهادی', 'طبقات', 'بسیج', 'یارانه', 'کوپن', 'گندم']\n",
    "socialist_freqs = categorical_freqs(socialist_w)"
   ]
  },
  {
   "cell_type": "code",
   "execution_count": 36,
   "id": "93fd05ca",
   "metadata": {
    "scrolled": true
   },
   "outputs": [
    {
     "data": {
      "image/png": "[encoded data removed]",
      "text/plain": [
       "<Figure size 432x288 with 1 Axes>"
      ]
     },
     "metadata": {
      "needs_background": "light"
     },
     "output_type": "display_data"
    }
   ],
   "source": [
    "plot_freqs('Promoting Socialist Ideas', socialist_freqs)"
   ]
  },
  {
   "cell_type": "code",
   "execution_count": 29,
   "id": "a178604c",
   "metadata": {},
   "outputs": [
    {
     "data": {
      "image/png": "[encoded data removed]",
      "text/plain": [
       "<Figure size 432x288 with 1 Axes>"
      ]
     },
     "metadata": {
      "needs_background": "light"
     },
     "output_type": "display_data"
    }
   ],
   "source": [
    "plt.hist(speeches[speeches['speaker'] != 'others']['speaker'])\n",
    "plt.xlabel(\"speaker\")\n",
    "plt.ylabel(\"count\")\n",
    "plt.xticks(rotation=90)\n",
    "plt.show()"
   ]
  },
  {
   "cell_type": "code",
   "execution_count": 22,
   "id": "4fadbcce",
   "metadata": {},
   "outputs": [
    {
     "data": {
      "text/html": [
       "<div>\n",
       "<style scoped>\n",
       "    .dataframe tbody tr th:only-of-type {\n",
       "        vertical-align: middle;\n",
       "    }\n",
       "\n",
       "    .dataframe tbody tr th {\n",
       "        vertical-align: top;\n",
       "    }\n",
       "\n",
       "    .dataframe thead th {\n",
       "        text-align: right;\n",
       "    }\n",
       "</style>\n",
       "<table border=\"1\" class=\"dataframe\">\n",
       "  <thead>\n",
       "    <tr style=\"text-align: right;\">\n",
       "      <th></th>\n",
       "      <th>year</th>\n",
       "      <th>speech</th>\n",
       "      <th>n_words</th>\n",
       "    </tr>\n",
       "    <tr>\n",
       "      <th>speaker</th>\n",
       "      <th></th>\n",
       "      <th></th>\n",
       "      <th></th>\n",
       "    </tr>\n",
       "  </thead>\n",
       "  <tbody>\n",
       "    <tr>\n",
       "      <th>others</th>\n",
       "      <td>8</td>\n",
       "      <td>8</td>\n",
       "      <td>8</td>\n",
       "    </tr>\n",
       "    <tr>\n",
       "      <th>ابوترابی</th>\n",
       "      <td>22</td>\n",
       "      <td>22</td>\n",
       "      <td>22</td>\n",
       "    </tr>\n",
       "    <tr>\n",
       "      <th>امامی</th>\n",
       "      <td>82</td>\n",
       "      <td>82</td>\n",
       "      <td>82</td>\n",
       "    </tr>\n",
       "    <tr>\n",
       "      <th>اکبری</th>\n",
       "      <td>21</td>\n",
       "      <td>21</td>\n",
       "      <td>21</td>\n",
       "    </tr>\n",
       "    <tr>\n",
       "      <th>جنتی</th>\n",
       "      <td>34</td>\n",
       "      <td>34</td>\n",
       "      <td>34</td>\n",
       "    </tr>\n",
       "    <tr>\n",
       "      <th>خاتمی</th>\n",
       "      <td>54</td>\n",
       "      <td>54</td>\n",
       "      <td>54</td>\n",
       "    </tr>\n",
       "    <tr>\n",
       "      <th>خامنه</th>\n",
       "      <td>15</td>\n",
       "      <td>15</td>\n",
       "      <td>15</td>\n",
       "    </tr>\n",
       "    <tr>\n",
       "      <th>صدیقی</th>\n",
       "      <td>73</td>\n",
       "      <td>73</td>\n",
       "      <td>73</td>\n",
       "    </tr>\n",
       "    <tr>\n",
       "      <th>موحدی</th>\n",
       "      <td>59</td>\n",
       "      <td>59</td>\n",
       "      <td>59</td>\n",
       "    </tr>\n",
       "    <tr>\n",
       "      <th>هاشمی</th>\n",
       "      <td>56</td>\n",
       "      <td>56</td>\n",
       "      <td>56</td>\n",
       "    </tr>\n",
       "    <tr>\n",
       "      <th>یزدی</th>\n",
       "      <td>24</td>\n",
       "      <td>24</td>\n",
       "      <td>24</td>\n",
       "    </tr>\n",
       "  </tbody>\n",
       "</table>\n",
       "</div>"
      ],
      "text/plain": [
       "          year  speech  n_words\n",
       "speaker                        \n",
       "others       8       8        8\n",
       "ابوترابی    22      22       22\n",
       "امامی       82      82       82\n",
       "اکبری       21      21       21\n",
       "جنتی        34      34       34\n",
       "خاتمی       54      54       54\n",
       "خامنه       15      15       15\n",
       "صدیقی       73      73       73\n",
       "موحدی       59      59       59\n",
       "هاشمی       56      56       56\n",
       "یزدی        24      24       24"
      ]
     },
     "execution_count": 22,
     "metadata": {},
     "output_type": "execute_result"
    }
   ],
   "source": [
    "speeches.groupby('speaker').count()"
   ]
  },
  {
   "cell_type": "code",
   "execution_count": null,
   "id": "2385a3d3",
   "metadata": {},
   "outputs": [],
   "source": []
  },
  {
   "cell_type": "code",
   "execution_count": null,
   "id": "d4db09ba",
   "metadata": {},
   "outputs": [],
   "source": []
  },
  {
   "cell_type": "code",
   "execution_count": null,
   "id": "da5a8b5e",
   "metadata": {},
   "outputs": [],
   "source": []
  }
 ],
 "metadata": {
  "kernelspec": {
   "display_name": "Python 3 (ipykernel)",
   "language": "python",
   "name": "python3"
  },
  "language_info": {
   "codemirror_mode": {
    "name": "ipython",
    "version": 3
   },
   "file_extension": ".py",
   "mimetype": "text/x-python",
   "name": "python",
   "nbconvert_exporter": "python",
   "pygments_lexer": "ipython3",
   "version": "3.9.7"
  }
 },
 "nbformat": 4,
 "nbformat_minor": 5
}
