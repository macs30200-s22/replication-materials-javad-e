{
 "cells": [
  {
   "cell_type": "code",
   "execution_count": 29,
   "id": "5f2d5705",
   "metadata": {},
   "outputs": [],
   "source": [
    "import requests\n",
    "from bs4 import BeautifulSoup\n",
    "import csv\n",
    "import re\n",
    "import pandas as pd"
   ]
  },
  {
   "cell_type": "code",
   "execution_count": 190,
   "id": "a2d75cda",
   "metadata": {},
   "outputs": [],
   "source": [
    "data = pd.DataFrame(columns=['year', 'speaker', 'speech', 'n_words'])"
   ]
  },
  {
   "cell_type": "code",
   "execution_count": 191,
   "id": "1aa345df",
   "metadata": {},
   "outputs": [
    {
     "data": {
      "text/html": [
       "<div>\n",
       "<style scoped>\n",
       "    .dataframe tbody tr th:only-of-type {\n",
       "        vertical-align: middle;\n",
       "    }\n",
       "\n",
       "    .dataframe tbody tr th {\n",
       "        vertical-align: top;\n",
       "    }\n",
       "\n",
       "    .dataframe thead th {\n",
       "        text-align: right;\n",
       "    }\n",
       "</style>\n",
       "<table border=\"1\" class=\"dataframe\">\n",
       "  <thead>\n",
       "    <tr style=\"text-align: right;\">\n",
       "      <th></th>\n",
       "      <th>year</th>\n",
       "      <th>speaker</th>\n",
       "      <th>speech</th>\n",
       "      <th>n_words</th>\n",
       "    </tr>\n",
       "  </thead>\n",
       "  <tbody>\n",
       "  </tbody>\n",
       "</table>\n",
       "</div>"
      ],
      "text/plain": [
       "Empty DataFrame\n",
       "Columns: [year, speaker, speech, n_words]\n",
       "Index: []"
      ]
     },
     "execution_count": 191,
     "metadata": {},
     "output_type": "execute_result"
    }
   ],
   "source": [
    "data"
   ]
  },
  {
   "cell_type": "code",
   "execution_count": 186,
   "id": "40965190",
   "metadata": {},
   "outputs": [],
   "source": [
    "base_url = \"https://hawzah.net\"\n",
    "url_77 = base_url + \"/fa/Subjects/47895\"\n",
    "url_78 = base_url + \"/fa/Subjects/47894\"\n",
    "url_79 = base_url + \"/fa/Subjects/47893\"\n",
    "url_80 = base_url + \"/fa/Subjects/47892\""
   ]
  },
  {
   "cell_type": "code",
   "execution_count": 52,
   "id": "d14e3802",
   "metadata": {},
   "outputs": [],
   "source": [
    "def get_page_links(year_url):\n",
    "    request = requests.get(year_url)\n",
    "    response_content = request.content\n",
    "    soup = BeautifulSoup(response_content, 'html.parser')\n",
    "    pages_to_visit = []\n",
    "    for link in soup.find_all('a'):\n",
    "        link_str = link.get('href')\n",
    "        if link_str and 'امامت' in link_str:\n",
    "            pages_to_visit.append(base_url + link_str)\n",
    "        \n",
    "    return pages_to_visit"
   ]
  },
  {
   "cell_type": "code",
   "execution_count": 192,
   "id": "12b42cf3",
   "metadata": {},
   "outputs": [],
   "source": [
    "def get_text(pages, index, year):\n",
    "    request = requests.get(pages[index])\n",
    "    response_content = request.content\n",
    "    soup = BeautifulSoup(response_content, 'html.parser')\n",
    "    speech = []\n",
    "    for p in soup.find_all('p'):\n",
    "        if '<p class=' in str(p) and 'item-abstract hidden-xs' in str(p):\n",
    "            break\n",
    "        p = re.sub(r'<.+?>', '', str(p))\n",
    "        words_lst = p.split()\n",
    "        speech.extend(words_lst)\n",
    "    n_words = len(speech)\n",
    "    name = get_name(pages[index])\n",
    "    \n",
    "    return {'year': year, 'speaker': name, 'speech': speech, 'n_words': n_words}"
   ]
  },
  {
   "cell_type": "code",
   "execution_count": 175,
   "id": "d5dece19",
   "metadata": {},
   "outputs": [],
   "source": [
    "def get_name(url):\n",
    "    name = re.search('امامت-.+?-.+?-.+?-', url)\n",
    "    if name:\n",
    "        name = name.group(0).replace('-', '')\n",
    "        name = name.replace('الله', '').replace('اله', '')\n",
    "        name = name.replace('آیت', '').replace('امامت', '')\n",
    "        \n",
    "    return name"
   ]
  },
  {
   "cell_type": "code",
   "execution_count": 193,
   "id": "4b90af54",
   "metadata": {},
   "outputs": [],
   "source": [
    "# year 1377\n",
    "pages = get_page_links(url_77)\n",
    "for index, _ in enumerate(pages):\n",
    "    row =  get_text(pages, index, '1377')\n",
    "    data.loc[len(data.index)] = row"
   ]
  },
  {
   "cell_type": "code",
   "execution_count": 207,
   "id": "3493c664",
   "metadata": {},
   "outputs": [],
   "source": [
    "# year 1378\n",
    "pages = get_page_links(url_78)\n",
    "for index, _ in enumerate(pages):\n",
    "    row =  get_text(pages, index, '1378')\n",
    "    data.loc[len(data.index)] = row"
   ]
  },
  {
   "cell_type": "code",
   "execution_count": 208,
   "id": "bd40463e",
   "metadata": {},
   "outputs": [],
   "source": [
    "# year 1379\n",
    "pages = get_page_links(url_79)\n",
    "for index, _ in enumerate(pages):\n",
    "    row =  get_text(pages, index, '1379')\n",
    "    data.loc[len(data.index)] = row"
   ]
  },
  {
   "cell_type": "code",
   "execution_count": 209,
   "id": "69c0cad5",
   "metadata": {},
   "outputs": [],
   "source": [
    "# year 1380\n",
    "pages = get_page_links(url_80)\n",
    "for index, _ in enumerate(pages):\n",
    "    row =  get_text(pages, index, '1380')\n",
    "    data.loc[len(data.index)] = row"
   ]
  },
  {
   "cell_type": "code",
   "execution_count": 210,
   "id": "5a9e46b2",
   "metadata": {},
   "outputs": [
    {
     "data": {
      "text/html": [
       "<div>\n",
       "<style scoped>\n",
       "    .dataframe tbody tr th:only-of-type {\n",
       "        vertical-align: middle;\n",
       "    }\n",
       "\n",
       "    .dataframe tbody tr th {\n",
       "        vertical-align: top;\n",
       "    }\n",
       "\n",
       "    .dataframe thead th {\n",
       "        text-align: right;\n",
       "    }\n",
       "</style>\n",
       "<table border=\"1\" class=\"dataframe\">\n",
       "  <thead>\n",
       "    <tr style=\"text-align: right;\">\n",
       "      <th></th>\n",
       "      <th>year</th>\n",
       "      <th>speaker</th>\n",
       "      <th>speech</th>\n",
       "      <th>n_words</th>\n",
       "    </tr>\n",
       "  </thead>\n",
       "  <tbody>\n",
       "    <tr>\n",
       "      <th>0</th>\n",
       "      <td>1377</td>\n",
       "      <td>جنتی</td>\n",
       "      <td>[-, حضور, پرشور, مردم, در, راهپیمایی, 22, بهمن...</td>\n",
       "      <td>721</td>\n",
       "    </tr>\n",
       "    <tr>\n",
       "      <th>1</th>\n",
       "      <td>1377</td>\n",
       "      <td>یزدی</td>\n",
       "      <td>[خطبه, اول, بسم, الله, الرحمن, الرحیم, الحمد, ...</td>\n",
       "      <td>6305</td>\n",
       "    </tr>\n",
       "    <tr>\n",
       "      <th>2</th>\n",
       "      <td>1377</td>\n",
       "      <td>رفسنجانی23</td>\n",
       "      <td>[خطبه, اول, بسم, الله, الرحمن, الرحیم, والصلاه...</td>\n",
       "      <td>6589</td>\n",
       "    </tr>\n",
       "    <tr>\n",
       "      <th>3</th>\n",
       "      <td>1377</td>\n",
       "      <td>جنتی</td>\n",
       "      <td>[خطبه, اول., بسم, الله, الرحمن, الرحیم., والصل...</td>\n",
       "      <td>5311</td>\n",
       "    </tr>\n",
       "    <tr>\n",
       "      <th>4</th>\n",
       "      <td>1377</td>\n",
       "      <td>کاشانی</td>\n",
       "      <td>[خطبه, اول, بسم, الله, الرحمن, الرحیم, نحمده, ...</td>\n",
       "      <td>5317</td>\n",
       "    </tr>\n",
       "    <tr>\n",
       "      <th>...</th>\n",
       "      <td>...</td>\n",
       "      <td>...</td>\n",
       "      <td>...</td>\n",
       "      <td>...</td>\n",
       "    </tr>\n",
       "    <tr>\n",
       "      <th>114</th>\n",
       "      <td>1380</td>\n",
       "      <td>یزدی</td>\n",
       "      <td>[بسم, الله, الرحمن, الرحیم, الحمد, لله, رب, ال...</td>\n",
       "      <td>9231</td>\n",
       "    </tr>\n",
       "    <tr>\n",
       "      <th>115</th>\n",
       "      <td>1380</td>\n",
       "      <td>جنتی</td>\n",
       "      <td>[بسم, الله, الرحمن, الرحیم, الحمد, لله, رب, ال...</td>\n",
       "      <td>4940</td>\n",
       "    </tr>\n",
       "    <tr>\n",
       "      <th>116</th>\n",
       "      <td>1380</td>\n",
       "      <td>هاشمی</td>\n",
       "      <td>[بسم, الله, الرحمن, الرحیم, الحمدلله, رب, العا...</td>\n",
       "      <td>5246</td>\n",
       "    </tr>\n",
       "    <tr>\n",
       "      <th>117</th>\n",
       "      <td>1380</td>\n",
       "      <td>کاشانی</td>\n",
       "      <td>[بسم, الله, الرحمن, الرحیم, الحمدالله, رب, الع...</td>\n",
       "      <td>3450</td>\n",
       "    </tr>\n",
       "    <tr>\n",
       "      <th>118</th>\n",
       "      <td>1380</td>\n",
       "      <td>یزدی</td>\n",
       "      <td>[بسم, الله, الرحمن, الرحیم, الحمد, لله, رب, ال...</td>\n",
       "      <td>6520</td>\n",
       "    </tr>\n",
       "  </tbody>\n",
       "</table>\n",
       "<p>119 rows × 4 columns</p>\n",
       "</div>"
      ],
      "text/plain": [
       "     year     speaker                                             speech  \\\n",
       "0    1377        جنتی  [-, حضور, پرشور, مردم, در, راهپیمایی, 22, بهمن...   \n",
       "1    1377        یزدی  [خطبه, اول, بسم, الله, الرحمن, الرحیم, الحمد, ...   \n",
       "2    1377  رفسنجانی23  [خطبه, اول, بسم, الله, الرحمن, الرحیم, والصلاه...   \n",
       "3    1377        جنتی  [خطبه, اول., بسم, الله, الرحمن, الرحیم., والصل...   \n",
       "4    1377      کاشانی  [خطبه, اول, بسم, الله, الرحمن, الرحیم, نحمده, ...   \n",
       "..    ...         ...                                                ...   \n",
       "114  1380        یزدی  [بسم, الله, الرحمن, الرحیم, الحمد, لله, رب, ال...   \n",
       "115  1380        جنتی  [بسم, الله, الرحمن, الرحیم, الحمد, لله, رب, ال...   \n",
       "116  1380       هاشمی  [بسم, الله, الرحمن, الرحیم, الحمدلله, رب, العا...   \n",
       "117  1380      کاشانی  [بسم, الله, الرحمن, الرحیم, الحمدالله, رب, الع...   \n",
       "118  1380        یزدی  [بسم, الله, الرحمن, الرحیم, الحمد, لله, رب, ال...   \n",
       "\n",
       "    n_words  \n",
       "0       721  \n",
       "1      6305  \n",
       "2      6589  \n",
       "3      5311  \n",
       "4      5317  \n",
       "..      ...  \n",
       "114    9231  \n",
       "115    4940  \n",
       "116    5246  \n",
       "117    3450  \n",
       "118    6520  \n",
       "\n",
       "[119 rows x 4 columns]"
      ]
     },
     "execution_count": 210,
     "metadata": {},
     "output_type": "execute_result"
    }
   ],
   "source": [
    "data"
   ]
  },
  {
   "cell_type": "code",
   "execution_count": 212,
   "id": "e6ff9a2c",
   "metadata": {},
   "outputs": [],
   "source": [
    "data.to_csv('speeches_77to80', sep='\\t')"
   ]
  },
  {
   "cell_type": "code",
   "execution_count": null,
   "id": "96ff15fd",
   "metadata": {},
   "outputs": [],
   "source": []
  }
 ],
 "metadata": {
  "kernelspec": {
   "display_name": "Python 3 (ipykernel)",
   "language": "python",
   "name": "python3"
  },
  "language_info": {
   "codemirror_mode": {
    "name": "ipython",
    "version": 3
   },
   "file_extension": ".py",
   "mimetype": "text/x-python",
   "name": "python",
   "nbconvert_exporter": "python",
   "pygments_lexer": "ipython3",
   "version": "3.9.7"
  }
 },
 "nbformat": 4,
 "nbformat_minor": 5
}
