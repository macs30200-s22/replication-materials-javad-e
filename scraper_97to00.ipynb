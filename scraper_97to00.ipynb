{
 "cells": [
  {
   "cell_type": "code",
   "execution_count": 1,
   "id": "e372e136",
   "metadata": {},
   "outputs": [],
   "source": [
    "import requests\n",
    "from bs4 import BeautifulSoup\n",
    "import csv\n",
    "import re\n",
    "import pandas as pd"
   ]
  },
  {
   "cell_type": "code",
   "execution_count": 2,
   "id": "3e0568bc",
   "metadata": {},
   "outputs": [
    {
     "data": {
      "text/html": [
       "<div>\n",
       "<style scoped>\n",
       "    .dataframe tbody tr th:only-of-type {\n",
       "        vertical-align: middle;\n",
       "    }\n",
       "\n",
       "    .dataframe tbody tr th {\n",
       "        vertical-align: top;\n",
       "    }\n",
       "\n",
       "    .dataframe thead th {\n",
       "        text-align: right;\n",
       "    }\n",
       "</style>\n",
       "<table border=\"1\" class=\"dataframe\">\n",
       "  <thead>\n",
       "    <tr style=\"text-align: right;\">\n",
       "      <th></th>\n",
       "      <th>year</th>\n",
       "      <th>speaker</th>\n",
       "      <th>speech</th>\n",
       "      <th>n_words</th>\n",
       "    </tr>\n",
       "  </thead>\n",
       "  <tbody>\n",
       "  </tbody>\n",
       "</table>\n",
       "</div>"
      ],
      "text/plain": [
       "Empty DataFrame\n",
       "Columns: [year, speaker, speech, n_words]\n",
       "Index: []"
      ]
     },
     "execution_count": 2,
     "metadata": {},
     "output_type": "execute_result"
    }
   ],
   "source": [
    "data = pd.DataFrame(columns=['year', 'speaker', 'speech', 'n_words'])\n",
    "data"
   ]
  },
  {
   "cell_type": "code",
   "execution_count": 3,
   "id": "b94102c3",
   "metadata": {},
   "outputs": [],
   "source": [
    "base_url = 'http://www.ofoghha.ir/archive/%D8%A8%DB%8C%D8%A7%D9%86%D8%A7%D8%AA/%D9%86%D9%85%D8%A7%D8%B2%D8%AC%D9%85%D8%B9%D9%87?cp='\n",
    "page1_url = base_url + '1'\n",
    "page2_url = base_url + '2'"
   ]
  },
  {
   "cell_type": "code",
   "execution_count": 4,
   "id": "eb3fbf0b",
   "metadata": {},
   "outputs": [],
   "source": [
    "def get_page_links(year_url):\n",
    "    request = requests.get(year_url)\n",
    "    response_content = request.content\n",
    "    soup = BeautifulSoup(response_content, 'html.parser')\n",
    "    pages_to_visit = []\n",
    "    for link in soup.find_all('a'):\n",
    "        link_str = link.get('href')\n",
    "        if link_str and 'bayanat' in link_str and 'general' in link_str:\n",
    "            pages_to_visit.append('http://www.ofoghha.ir' + link_str)\n",
    "        \n",
    "    return pages_to_visit"
   ]
  },
  {
   "cell_type": "code",
   "execution_count": 5,
   "id": "293723c0",
   "metadata": {},
   "outputs": [],
   "source": [
    "def get_text(pages, index, year):\n",
    "    request = requests.get(pages[index])\n",
    "    response_content = request.content\n",
    "    soup = BeautifulSoup(response_content, 'html.parser')\n",
    "    speech = []\n",
    "    for p in soup.find_all('p'):\n",
    "        p = re.sub(r'<.+?>', '', str(p))\n",
    "        p = re.sub(r'\\u200c', ' ', str(p))\n",
    "        p = re.sub(r'،', '', str(p))\n",
    "        words_lst = p.split()\n",
    "        speech.extend(words_lst)\n",
    "    n_words = len(speech)\n",
    "    name = 'اکبری'\n",
    "    \n",
    "    return {'year': year, 'speaker': name, 'speech': speech, 'n_words': n_words}"
   ]
  },
  {
   "cell_type": "code",
   "execution_count": null,
   "id": "956603b1",
   "metadata": {},
   "outputs": [],
   "source": []
  },
  {
   "cell_type": "code",
   "execution_count": 6,
   "id": "4f27ed0c",
   "metadata": {},
   "outputs": [],
   "source": [
    "# page 1\n",
    "pages = get_page_links(page1_url)\n",
    "for index, _ in enumerate(pages):\n",
    "    row =  get_text(pages, index, '1398')\n",
    "    if row['n_words'] > 1000:\n",
    "        data.loc[len(data.index)] = row"
   ]
  },
  {
   "cell_type": "code",
   "execution_count": 7,
   "id": "17a67345",
   "metadata": {},
   "outputs": [],
   "source": [
    "# page 2\n",
    "pages = get_page_links(page2_url)\n",
    "for index, _ in enumerate(pages):\n",
    "    row =  get_text(pages, index, '1397')\n",
    "    if row['n_words'] > 1000:\n",
    "        data.loc[len(data.index)] = row"
   ]
  },
  {
   "cell_type": "code",
   "execution_count": 8,
   "id": "46a109a2",
   "metadata": {},
   "outputs": [],
   "source": [
    "# IQNA Scraper"
   ]
  },
  {
   "cell_type": "code",
   "execution_count": 9,
   "id": "bbe96acc",
   "metadata": {},
   "outputs": [],
   "source": [
    "url_pt1 = 'https://iqna.ir/fa/tags/24188/'\n",
    "url_pt2 = '/%D9%86%D9%85%D8%A7%D8%B2-%D8%AC%D9%85%D8%B9%D9%87-%D8%AA%D9%87%D8%B1%D8%A7%D9%86'\n",
    "page1_url = url_pt1 + '1' + url_pt2\n",
    "page2_url = url_pt1 + '2' + url_pt2\n",
    "page3_url = url_pt1 + '3' + url_pt2\n",
    "page4_url = url_pt1 + '4' + url_pt2\n",
    "page5_url = url_pt1 + '5' + url_pt2\n",
    "page6_url = url_pt1 + '6' + url_pt2"
   ]
  },
  {
   "cell_type": "code",
   "execution_count": 10,
   "id": "028cd5c4",
   "metadata": {},
   "outputs": [],
   "source": [
    "def get_page_links(year_url):\n",
    "    request = requests.get(year_url)\n",
    "    response_content = request.content\n",
    "    soup = BeautifulSoup(response_content, 'html.parser')\n",
    "    pages_to_visit = []\n",
    "    for tag in soup.find_all(\"div\", {\"class\": \"tag_rutitr\"}):\n",
    "        if 'خطیب' in str(tag):\n",
    "            link = tag.next_sibling.next_sibling.find('a').get('href')\n",
    "            link = str(link)[:17]\n",
    "            pages_to_visit.append('https://iqna.ir' + link)\n",
    "        \n",
    "    return pages_to_visit"
   ]
  },
  {
   "cell_type": "code",
   "execution_count": 11,
   "id": "b883e13c",
   "metadata": {},
   "outputs": [
    {
     "data": {
      "text/plain": [
       "['https://iqna.ir/fa/news/4047657/',\n",
       " 'https://iqna.ir/fa/news/4045991/',\n",
       " 'https://iqna.ir/fa/news/4042041/',\n",
       " 'https://iqna.ir/fa/news/4040185/',\n",
       " 'https://iqna.ir/fa/news/4038691/',\n",
       " 'https://iqna.ir/fa/news/4037118/',\n",
       " 'https://iqna.ir/fa/news/4033680/']"
      ]
     },
     "execution_count": 11,
     "metadata": {},
     "output_type": "execute_result"
    }
   ],
   "source": [
    "pages = get_page_links(page1_url)\n",
    "pages"
   ]
  },
  {
   "cell_type": "code",
   "execution_count": 12,
   "id": "2303e930",
   "metadata": {},
   "outputs": [],
   "source": [
    "def get_text(pages, index, year):\n",
    "    request = requests.get(pages[index])\n",
    "    response_content = request.content\n",
    "    soup = BeautifulSoup(response_content, 'html.parser')\n",
    "    speech = []\n",
    "    for p in soup.find_all('p'):\n",
    "        p = re.sub(r'<.+?>', '', str(p))\n",
    "        p = re.sub(r'\\u200c', ' ', str(p))\n",
    "        p = re.sub(r'،', '', str(p))\n",
    "        words_lst = p.split()\n",
    "        speech.extend(words_lst)\n",
    "    n_words = len(speech)\n",
    "    name = get_name(speech)\n",
    "   \n",
    "    return {'year': year, 'speaker': name, 'speech': speech, 'n_words': n_words}"
   ]
  },
  {
   "cell_type": "code",
   "execution_count": 13,
   "id": "3d86aa10",
   "metadata": {},
   "outputs": [],
   "source": [
    "def get_name(speech):\n",
    "    all_names = ['امامی','کاشانی','اکبری','ابوترابی','صدیقی', 'خاتمی', 'موحدی', 'جنتی', 'خامنه']\n",
    "    for name in all_names:\n",
    "        if name in speech[:400]:\n",
    "            return name\n",
    "    return ''"
   ]
  },
  {
   "cell_type": "code",
   "execution_count": 14,
   "id": "f6a64dab",
   "metadata": {},
   "outputs": [],
   "source": [
    "# page 1\n",
    "pages = get_page_links(page1_url)\n",
    "for index, _ in enumerate(pages):\n",
    "    row =  get_text(pages, index, '1400')\n",
    "    data.loc[len(data.index)] = row"
   ]
  },
  {
   "cell_type": "code",
   "execution_count": 15,
   "id": "747bc148",
   "metadata": {},
   "outputs": [],
   "source": [
    "# page 2\n",
    "pages = get_page_links(page2_url)\n",
    "for index, _ in enumerate(pages):\n",
    "    row =  get_text(pages, index, '1400')\n",
    "    data.loc[len(data.index)] = row"
   ]
  },
  {
   "cell_type": "code",
   "execution_count": 16,
   "id": "d8409ee6",
   "metadata": {},
   "outputs": [],
   "source": [
    "# page 3\n",
    "pages = get_page_links(page3_url)\n",
    "for index, _ in enumerate(pages):\n",
    "    row =  get_text(pages, index, '1398')\n",
    "    data.loc[len(data.index)] = row"
   ]
  },
  {
   "cell_type": "code",
   "execution_count": 17,
   "id": "6d75df07",
   "metadata": {},
   "outputs": [],
   "source": [
    "# page 4\n",
    "pages = get_page_links(page4_url)\n",
    "for index, _ in enumerate(pages):\n",
    "    row =  get_text(pages, index, '1397')\n",
    "    data.loc[len(data.index)] = row"
   ]
  },
  {
   "cell_type": "code",
   "execution_count": 18,
   "id": "f1e77a3c",
   "metadata": {},
   "outputs": [],
   "source": [
    "# page 5\n",
    "pages = get_page_links(page5_url)\n",
    "for index, _ in enumerate(pages):\n",
    "    row =  get_text(pages, index, '1397')\n",
    "    data.loc[len(data.index)] = row"
   ]
  },
  {
   "cell_type": "code",
   "execution_count": 19,
   "id": "3e3dc8d5",
   "metadata": {},
   "outputs": [],
   "source": [
    "# page 6\n",
    "pages = get_page_links(page6_url)\n",
    "for index, _ in enumerate(pages):\n",
    "    row =  get_text(pages, index, '1396')\n",
    "    data.loc[len(data.index)] = row"
   ]
  },
  {
   "cell_type": "code",
   "execution_count": 20,
   "id": "de6b2a4a",
   "metadata": {},
   "outputs": [],
   "source": [
    "# IRIB Scraper"
   ]
  },
  {
   "cell_type": "code",
   "execution_count": 21,
   "id": "be989025",
   "metadata": {},
   "outputs": [],
   "source": [
    "url_pt1 = 'https://www.iribnews.ir/fa/tags/6123/'\n",
    "url_pt2 = '/نماز-جمعه-تهران'\n",
    "page1_url = url_pt1 + '1' + url_pt2\n",
    "page2_url = url_pt1 + '2' + url_pt2\n",
    "page3_url = url_pt1 + '3' + url_pt2\n",
    "page4_url = url_pt1 + '4' + url_pt2\n",
    "page5_url = url_pt1 + '5' + url_pt2\n",
    "page6_url = url_pt1 + '6' + url_pt2"
   ]
  },
  {
   "cell_type": "code",
   "execution_count": 22,
   "id": "71ff5384",
   "metadata": {},
   "outputs": [],
   "source": [
    "def get_page_links(year_url):\n",
    "    request = requests.get(year_url)\n",
    "    response_content = request.content\n",
    "    soup = BeautifulSoup(response_content, 'html.parser')\n",
    "    pages_to_visit = []\n",
    "    for tag in soup.find_all(\"div\", {\"class\": \"tag_rutitr\"}):\n",
    "        if ('خطیب' in str(tag) or 'خطبه' in str(tag)) and 'پیش' not in str(tag):\n",
    "            link = tag.next_sibling.next_sibling.find('a').get('href')\n",
    "            link = str(link)[:17]\n",
    "            pages_to_visit.append('https://www.iribnews.ir' + link)\n",
    "        \n",
    "    return pages_to_visit"
   ]
  },
  {
   "cell_type": "code",
   "execution_count": 23,
   "id": "912306b3",
   "metadata": {},
   "outputs": [],
   "source": [
    "pages = get_page_links(page1_url)"
   ]
  },
  {
   "cell_type": "code",
   "execution_count": 24,
   "id": "7d5ffe15",
   "metadata": {
    "scrolled": true
   },
   "outputs": [
    {
     "data": {
      "text/plain": [
       "['https://www.iribnews.ir/fa/news/3415654/',\n",
       " 'https://www.iribnews.ir/fa/news/3408442/',\n",
       " 'https://www.iribnews.ir/fa/news/3384475/',\n",
       " 'https://www.iribnews.ir/fa/news/3365038/',\n",
       " 'https://www.iribnews.ir/fa/news/3359472/',\n",
       " 'https://www.iribnews.ir/fa/news/3333850/',\n",
       " 'https://www.iribnews.ir/fa/news/3333840/',\n",
       " 'https://www.iribnews.ir/fa/news/3327694/',\n",
       " 'https://www.iribnews.ir/fa/news/3327685/',\n",
       " 'https://www.iribnews.ir/fa/news/3321401/',\n",
       " 'https://www.iribnews.ir/fa/news/3301570/',\n",
       " 'https://www.iribnews.ir/fa/news/3301557/',\n",
       " 'https://www.iribnews.ir/fa/news/3267975/',\n",
       " 'https://www.iribnews.ir/fa/news/3267963/']"
      ]
     },
     "execution_count": 24,
     "metadata": {},
     "output_type": "execute_result"
    }
   ],
   "source": [
    "pages"
   ]
  },
  {
   "cell_type": "code",
   "execution_count": 25,
   "id": "e33a286b",
   "metadata": {},
   "outputs": [],
   "source": [
    "def get_text(pages, index, year):\n",
    "    request = requests.get(pages[index])\n",
    "    response_content = request.content\n",
    "    soup = BeautifulSoup(response_content, 'html.parser')\n",
    "    speech = []\n",
    "    for p in soup.find_all('p'):\n",
    "        p = re.sub(r'<.+?>', '', str(p))\n",
    "        p = re.sub(r'\\u200c', ' ', str(p))\n",
    "        p = re.sub(r'،', '', str(p))\n",
    "        words_lst = p.split()\n",
    "        speech.extend(words_lst)\n",
    "    n_words = len(speech)\n",
    "    name = get_name(speech)\n",
    "   \n",
    "    return {'year': year, 'speaker': name, 'speech': speech, 'n_words': n_words}"
   ]
  },
  {
   "cell_type": "code",
   "execution_count": 26,
   "id": "38b88e50",
   "metadata": {},
   "outputs": [],
   "source": [
    "# page 1\n",
    "pages = get_page_links(page1_url)\n",
    "for index, _ in enumerate(pages):\n",
    "    row =  get_text(pages, index, '1400')\n",
    "    if len(row['speech']) > 50:\n",
    "        data.loc[len(data.index)] = row"
   ]
  },
  {
   "cell_type": "code",
   "execution_count": 27,
   "id": "adcf9d28",
   "metadata": {},
   "outputs": [],
   "source": [
    "# page 2\n",
    "pages = get_page_links(page2_url)\n",
    "for index, _ in enumerate(pages):\n",
    "    row =  get_text(pages, index, '1398')\n",
    "    if len(row['speech']) > 50:\n",
    "        data.loc[len(data.index)] = row"
   ]
  },
  {
   "cell_type": "code",
   "execution_count": 28,
   "id": "523cad26",
   "metadata": {},
   "outputs": [],
   "source": [
    "# page 3\n",
    "pages = get_page_links(page3_url)\n",
    "for index, _ in enumerate(pages):\n",
    "    row =  get_text(pages, index, '1398')\n",
    "    if len(row['speech']) > 50:\n",
    "        data.loc[len(data.index)] = row"
   ]
  },
  {
   "cell_type": "code",
   "execution_count": 29,
   "id": "03b96068",
   "metadata": {},
   "outputs": [],
   "source": [
    "# page 4\n",
    "pages = get_page_links(page4_url)\n",
    "for index, _ in enumerate(pages):\n",
    "    row =  get_text(pages, index, '1398')\n",
    "    if len(row['speech']) > 50:\n",
    "        data.loc[len(data.index)] = row"
   ]
  },
  {
   "cell_type": "code",
   "execution_count": 30,
   "id": "24af7071",
   "metadata": {},
   "outputs": [],
   "source": [
    "# page 5\n",
    "pages = get_page_links(page5_url)\n",
    "for index, _ in enumerate(pages):\n",
    "    row =  get_text(pages, index, '1397')\n",
    "    if len(row['speech']) > 50:\n",
    "        data.loc[len(data.index)] = row"
   ]
  },
  {
   "cell_type": "code",
   "execution_count": 31,
   "id": "992b18d0",
   "metadata": {},
   "outputs": [],
   "source": [
    "# page 6\n",
    "pages = get_page_links(page6_url)\n",
    "for index, _ in enumerate(pages):\n",
    "    row =  get_text(pages, index, '1397')\n",
    "    if len(row['speech']) > 50:\n",
    "        data.loc[len(data.index)] = row"
   ]
  },
  {
   "cell_type": "code",
   "execution_count": 32,
   "id": "5273b35b",
   "metadata": {},
   "outputs": [
    {
     "data": {
      "text/html": [
       "<div>\n",
       "<style scoped>\n",
       "    .dataframe tbody tr th:only-of-type {\n",
       "        vertical-align: middle;\n",
       "    }\n",
       "\n",
       "    .dataframe tbody tr th {\n",
       "        vertical-align: top;\n",
       "    }\n",
       "\n",
       "    .dataframe thead th {\n",
       "        text-align: right;\n",
       "    }\n",
       "</style>\n",
       "<table border=\"1\" class=\"dataframe\">\n",
       "  <thead>\n",
       "    <tr style=\"text-align: right;\">\n",
       "      <th></th>\n",
       "      <th>year</th>\n",
       "      <th>speaker</th>\n",
       "      <th>speech</th>\n",
       "      <th>n_words</th>\n",
       "    </tr>\n",
       "  </thead>\n",
       "  <tbody>\n",
       "    <tr>\n",
       "      <th>0</th>\n",
       "      <td>1398</td>\n",
       "      <td>اکبری</td>\n",
       "      <td>[قال, الحکیم, فی, کتابه, الکریم:, «إِنَّ, اللّ...</td>\n",
       "      <td>3718</td>\n",
       "    </tr>\n",
       "    <tr>\n",
       "      <th>1</th>\n",
       "      <td>1398</td>\n",
       "      <td>اکبری</td>\n",
       "      <td>[خطبه, اول, «عِبادَ, اللهِ, اُوصیکُم, وَنَفسی,...</td>\n",
       "      <td>3960</td>\n",
       "    </tr>\n",
       "    <tr>\n",
       "      <th>2</th>\n",
       "      <td>1398</td>\n",
       "      <td>اکبری</td>\n",
       "      <td>[«عِبادَ, اللهِ, اُوصیکُم, وَنَفسی, بِتقَوی, ا...</td>\n",
       "      <td>3050</td>\n",
       "    </tr>\n",
       "    <tr>\n",
       "      <th>3</th>\n",
       "      <td>1398</td>\n",
       "      <td>اکبری</td>\n",
       "      <td>[«عِبادَ, اللهِ, اُوصیکُم, وَنَفسی, بِتقَوی, ا...</td>\n",
       "      <td>3209</td>\n",
       "    </tr>\n",
       "    <tr>\n",
       "      <th>4</th>\n",
       "      <td>1398</td>\n",
       "      <td>اکبری</td>\n",
       "      <td>[خطبه, اول, قال, الحکیم, فی, کتابه, الکریم:, «...</td>\n",
       "      <td>3078</td>\n",
       "    </tr>\n",
       "    <tr>\n",
       "      <th>...</th>\n",
       "      <td>...</td>\n",
       "      <td>...</td>\n",
       "      <td>...</td>\n",
       "      <td>...</td>\n",
       "    </tr>\n",
       "    <tr>\n",
       "      <th>72</th>\n",
       "      <td>1398</td>\n",
       "      <td>امامی</td>\n",
       "      <td>[امام, جمعه, موقت, تهران, از, همه, خواست, تا, ...</td>\n",
       "      <td>1383</td>\n",
       "    </tr>\n",
       "    <tr>\n",
       "      <th>73</th>\n",
       "      <td>1397</td>\n",
       "      <td>امامی</td>\n",
       "      <td>[خطیب, جمعه, تهران:, با, وحدت, حوزه, و, دانشگا...</td>\n",
       "      <td>1160</td>\n",
       "    </tr>\n",
       "    <tr>\n",
       "      <th>74</th>\n",
       "      <td>1397</td>\n",
       "      <td>ابوترابی</td>\n",
       "      <td>[خطیب, نماز, جمعه, تهران:, گسترش, عدالت, بزرگت...</td>\n",
       "      <td>1753</td>\n",
       "    </tr>\n",
       "    <tr>\n",
       "      <th>75</th>\n",
       "      <td>1397</td>\n",
       "      <td>موحدی</td>\n",
       "      <td>[خطیب, جمعه, تهران:, مسئولان, برای, حل, مشکلات...</td>\n",
       "      <td>1217</td>\n",
       "    </tr>\n",
       "    <tr>\n",
       "      <th>76</th>\n",
       "      <td>1397</td>\n",
       "      <td>امامی</td>\n",
       "      <td>[امام, جمعه, موقت, تهران, مثلث, شوم, امریکا, ص...</td>\n",
       "      <td>1277</td>\n",
       "    </tr>\n",
       "  </tbody>\n",
       "</table>\n",
       "<p>77 rows × 4 columns</p>\n",
       "</div>"
      ],
      "text/plain": [
       "    year   speaker                                             speech n_words\n",
       "0   1398     اکبری  [قال, الحکیم, فی, کتابه, الکریم:, «إِنَّ, اللّ...    3718\n",
       "1   1398     اکبری  [خطبه, اول, «عِبادَ, اللهِ, اُوصیکُم, وَنَفسی,...    3960\n",
       "2   1398     اکبری  [«عِبادَ, اللهِ, اُوصیکُم, وَنَفسی, بِتقَوی, ا...    3050\n",
       "3   1398     اکبری  [«عِبادَ, اللهِ, اُوصیکُم, وَنَفسی, بِتقَوی, ا...    3209\n",
       "4   1398     اکبری  [خطبه, اول, قال, الحکیم, فی, کتابه, الکریم:, «...    3078\n",
       "..   ...       ...                                                ...     ...\n",
       "72  1398     امامی  [امام, جمعه, موقت, تهران, از, همه, خواست, تا, ...    1383\n",
       "73  1397     امامی  [خطیب, جمعه, تهران:, با, وحدت, حوزه, و, دانشگا...    1160\n",
       "74  1397  ابوترابی  [خطیب, نماز, جمعه, تهران:, گسترش, عدالت, بزرگت...    1753\n",
       "75  1397     موحدی  [خطیب, جمعه, تهران:, مسئولان, برای, حل, مشکلات...    1217\n",
       "76  1397     امامی  [امام, جمعه, موقت, تهران, مثلث, شوم, امریکا, ص...    1277\n",
       "\n",
       "[77 rows x 4 columns]"
      ]
     },
     "execution_count": 32,
     "metadata": {},
     "output_type": "execute_result"
    }
   ],
   "source": [
    "data"
   ]
  },
  {
   "cell_type": "code",
   "execution_count": 34,
   "id": "09c64b6e",
   "metadata": {},
   "outputs": [],
   "source": [
    "data.to_csv('speeches_97to00', sep='\\t')"
   ]
  },
  {
   "cell_type": "code",
   "execution_count": null,
   "id": "51d0011b",
   "metadata": {},
   "outputs": [],
   "source": []
  },
  {
   "cell_type": "code",
   "execution_count": null,
   "id": "6b668ebd",
   "metadata": {},
   "outputs": [],
   "source": []
  }
 ],
 "metadata": {
  "kernelspec": {
   "display_name": "Python 3 (ipykernel)",
   "language": "python",
   "name": "python3"
  },
  "language_info": {
   "codemirror_mode": {
    "name": "ipython",
    "version": 3
   },
   "file_extension": ".py",
   "mimetype": "text/x-python",
   "name": "python",
   "nbconvert_exporter": "python",
   "pygments_lexer": "ipython3",
   "version": "3.9.7"
  }
 },
 "nbformat": 4,
 "nbformat_minor": 5
}
