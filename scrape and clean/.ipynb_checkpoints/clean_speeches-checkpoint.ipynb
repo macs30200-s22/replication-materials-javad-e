{
 "cells": [
  {
   "cell_type": "code",
   "execution_count": 2,
   "id": "311d4177",
   "metadata": {},
   "outputs": [],
   "source": [
    "import csv\n",
    "import re\n",
    "import pandas as pd\n",
    "import numpy as np\n",
    "import matplotlib.pyplot as plt\n",
    "import seaborn as sns\n",
    "import math\n",
    "import ast\n",
    "%matplotlib inline"
   ]
  },
  {
   "cell_type": "code",
   "execution_count": 3,
   "id": "65a9e907",
   "metadata": {},
   "outputs": [],
   "source": [
    "speeches1 = pd.read_csv(\"../data/speeches_87to90.csv\", sep='\\t', index_col=0)\n",
    "speeches2 = pd.read_csv(\"../data/speeches_91to96.csv\", sep='\\t', index_col=0)\n",
    "speeches3 = pd.read_csv(\"../data/speeches_97to00.csv\", sep='\\t', index_col=0)"
   ]
  },
  {
   "cell_type": "code",
   "execution_count": 7,
   "id": "81602210",
   "metadata": {},
   "outputs": [],
   "source": [
    "speeches = pd.concat([speeches1, speeches2, speeches3], ignore_index=True)"
   ]
  },
  {
   "cell_type": "code",
   "execution_count": 8,
   "id": "dbfe5557",
   "metadata": {},
   "outputs": [
    {
     "data": {
      "text/plain": [
       "345"
      ]
     },
     "execution_count": 8,
     "metadata": {},
     "output_type": "execute_result"
    }
   ],
   "source": [
    "len(speeches)"
   ]
  },
  {
   "cell_type": "code",
   "execution_count": 9,
   "id": "7d5806c0",
   "metadata": {},
   "outputs": [],
   "source": [
    "def get_english_name(speaker_p):\n",
    "    if speaker_p == 'ابوترابی':\n",
    "        return 'Abutorabi'\n",
    "    if speaker_p == 'امامی':\n",
    "        return 'Emami'\n",
    "    if speaker_p == 'اکبری':\n",
    "        return 'Akbari'\n",
    "    if speaker_p == 'جنتی':\n",
    "        return 'Jannati'\n",
    "    if speaker_p == 'خامنه':\n",
    "        return 'Khamenei'\n",
    "    if speaker_p == 'خاتمی':\n",
    "        return 'Khatami'\n",
    "    if speaker_p == 'صدیقی':\n",
    "        return 'Sedighi'\n",
    "    if speaker_p == 'موحدی':\n",
    "        return 'Movahedi'\n",
    "    if speaker_p == 'هاشمی':\n",
    "        return 'Hashemi'\n",
    "    if speaker_p == 'یزدی':\n",
    "        return 'Yazdi'\n",
    "    return 'others'"
   ]
  },
  {
   "cell_type": "code",
   "execution_count": 10,
   "id": "b269dc43",
   "metadata": {},
   "outputs": [],
   "source": [
    "speakers_dict = {}\n",
    "for speaker_p in speeches['speaker']:\n",
    "    speaker_e = get_english_name(speaker_p)\n",
    "    speakers_dict[speaker_e] = (speakers_dict.get(speaker_e, 0) + 1)\n",
    "    \n",
    "# for k,v in speakers_dict.items():\n",
    "#     speakers_dict[k] = v / len(speeches['speaker'])\n",
    "del speakers_dict['others']\n",
    "sorted_sp_dict = dict(sorted(speakers_dict.items(), key=lambda item: item[1], reverse=True))"
   ]
  },
  {
   "cell_type": "code",
   "execution_count": 11,
   "id": "85a973c5",
   "metadata": {
    "scrolled": false
   },
   "outputs": [
    {
     "data": {
      "image/png": "[encoded data removed]",
      "text/plain": [
       "<Figure size 504x360 with 1 Axes>"
      ]
     },
     "metadata": {
      "needs_background": "light"
     },
     "output_type": "display_data"
    }
   ],
   "source": [
    "plt.figure(figsize=(7,5))\n",
    "plt.bar(sorted_sp_dict.keys(), sorted_sp_dict.values(), color='maroon')\n",
    "plt.xlabel(\"speaker\")\n",
    "plt.ylabel(\"count\")\n",
    "plt.xticks(rotation=45)\n",
    "plt.show()"
   ]
  },
  {
   "cell_type": "code",
   "execution_count": 14,
   "id": "b44b2882",
   "metadata": {},
   "outputs": [
    {
     "data": {
      "text/plain": [
       "5646.46218487395"
      ]
     },
     "execution_count": 14,
     "metadata": {},
     "output_type": "execute_result"
    }
   ],
   "source": [
    "speeches1['n_words'].mean()"
   ]
  },
  {
   "cell_type": "code",
   "execution_count": 7,
   "id": "d7f85f56",
   "metadata": {},
   "outputs": [],
   "source": [
    "speeches = pd.concat([speeches, speeches[speeches['year']==1397]], ignore_index=True)\n",
    "speeches = pd.concat([speeches, speeches[speeches['year']==1395]], ignore_index=True)\n",
    "speeches = pd.concat([speeches, speeches[speeches['year']==1394]], ignore_index=True)"
   ]
  },
  {
   "cell_type": "code",
   "execution_count": 8,
   "id": "29311dae",
   "metadata": {},
   "outputs": [
    {
     "data": {
      "text/html": [
       "<div>\n",
       "<style scoped>\n",
       "    .dataframe tbody tr th:only-of-type {\n",
       "        vertical-align: middle;\n",
       "    }\n",
       "\n",
       "    .dataframe tbody tr th {\n",
       "        vertical-align: top;\n",
       "    }\n",
       "\n",
       "    .dataframe thead th {\n",
       "        text-align: right;\n",
       "    }\n",
       "</style>\n",
       "<table border=\"1\" class=\"dataframe\">\n",
       "  <thead>\n",
       "    <tr style=\"text-align: right;\">\n",
       "      <th></th>\n",
       "      <th>speaker</th>\n",
       "      <th>speech</th>\n",
       "      <th>n_words</th>\n",
       "    </tr>\n",
       "    <tr>\n",
       "      <th>year</th>\n",
       "      <th></th>\n",
       "      <th></th>\n",
       "      <th></th>\n",
       "    </tr>\n",
       "  </thead>\n",
       "  <tbody>\n",
       "    <tr>\n",
       "      <th>1387</th>\n",
       "      <td>7</td>\n",
       "      <td>7</td>\n",
       "      <td>7</td>\n",
       "    </tr>\n",
       "    <tr>\n",
       "      <th>1388</th>\n",
       "      <td>36</td>\n",
       "      <td>36</td>\n",
       "      <td>36</td>\n",
       "    </tr>\n",
       "    <tr>\n",
       "      <th>1389</th>\n",
       "      <td>40</td>\n",
       "      <td>40</td>\n",
       "      <td>40</td>\n",
       "    </tr>\n",
       "    <tr>\n",
       "      <th>1390</th>\n",
       "      <td>36</td>\n",
       "      <td>36</td>\n",
       "      <td>36</td>\n",
       "    </tr>\n",
       "    <tr>\n",
       "      <th>1392</th>\n",
       "      <td>32</td>\n",
       "      <td>32</td>\n",
       "      <td>32</td>\n",
       "    </tr>\n",
       "    <tr>\n",
       "      <th>1393</th>\n",
       "      <td>34</td>\n",
       "      <td>34</td>\n",
       "      <td>34</td>\n",
       "    </tr>\n",
       "    <tr>\n",
       "      <th>1394</th>\n",
       "      <td>48</td>\n",
       "      <td>48</td>\n",
       "      <td>48</td>\n",
       "    </tr>\n",
       "    <tr>\n",
       "      <th>1395</th>\n",
       "      <td>52</td>\n",
       "      <td>52</td>\n",
       "      <td>52</td>\n",
       "    </tr>\n",
       "    <tr>\n",
       "      <th>1396</th>\n",
       "      <td>38</td>\n",
       "      <td>38</td>\n",
       "      <td>38</td>\n",
       "    </tr>\n",
       "    <tr>\n",
       "      <th>1397</th>\n",
       "      <td>34</td>\n",
       "      <td>34</td>\n",
       "      <td>34</td>\n",
       "    </tr>\n",
       "    <tr>\n",
       "      <th>1398</th>\n",
       "      <td>35</td>\n",
       "      <td>35</td>\n",
       "      <td>35</td>\n",
       "    </tr>\n",
       "    <tr>\n",
       "      <th>1400</th>\n",
       "      <td>20</td>\n",
       "      <td>20</td>\n",
       "      <td>20</td>\n",
       "    </tr>\n",
       "  </tbody>\n",
       "</table>\n",
       "</div>"
      ],
      "text/plain": [
       "      speaker  speech  n_words\n",
       "year                          \n",
       "1387        7       7        7\n",
       "1388       36      36       36\n",
       "1389       40      40       40\n",
       "1390       36      36       36\n",
       "1392       32      32       32\n",
       "1393       34      34       34\n",
       "1394       48      48       48\n",
       "1395       52      52       52\n",
       "1396       38      38       38\n",
       "1397       34      34       34\n",
       "1398       35      35       35\n",
       "1400       20      20       20"
      ]
     },
     "execution_count": 8,
     "metadata": {},
     "output_type": "execute_result"
    }
   ],
   "source": [
    "speeches.groupby('year').count()"
   ]
  },
  {
   "cell_type": "code",
   "execution_count": 9,
   "id": "4f7e7332",
   "metadata": {},
   "outputs": [],
   "source": [
    "stp_file = open(\"persian_stp.txt\", \"r\")\n",
    "stp_words = stp_file.read()\n",
    "stp_words = stp_words.split(\"\\n\")\n",
    "stp_file.close()\n",
    "for i, w in enumerate(stp_words):\n",
    "    stp_words[i] = re.sub('ی', 'ي', w)"
   ]
  },
  {
   "cell_type": "code",
   "execution_count": 10,
   "id": "ac25026c",
   "metadata": {},
   "outputs": [],
   "source": [
    "def clean_word(w):\n",
    "    stp_w_flag = False\n",
    "    \n",
    "    symbols = ['!','\"','\\#','\\(','\\)','\\*',',','-','.',':','«','»','،',\n",
    "               '؛','؟','۰','۱','۲','۳','۴','۵','۶','۷','۸','۹','…']\n",
    "    for char in symbols:\n",
    "        cleaned_w = re.sub(char, '', w)\n",
    "    cleaned_w = re.sub('ی', 'ي', cleaned_w)\n",
    "    cleaned_w = re.sub('‌', ' ', cleaned_w)\n",
    "        \n",
    "    if (cleaned_w in stp_words) or (len(cleaned_w) <= 2):\n",
    "        stp_w_flag = True\n",
    "        cleaned_w = ''\n",
    "\n",
    "    \n",
    "    return cleaned_w, stp_w_flag"
   ]
  },
  {
   "cell_type": "code",
   "execution_count": 11,
   "id": "daf92ac5",
   "metadata": {},
   "outputs": [],
   "source": [
    "def clean_speeches():\n",
    "    for row_i in range(len(speeches)):\n",
    "        speech = ast.literal_eval(speeches.at[row_i, 'speech'])\n",
    "        cleaned_speech = []\n",
    "        for word in speech:\n",
    "            cleaned_word, stp_w_flag = clean_word(word)\n",
    "            if not stp_w_flag:\n",
    "                cleaned_speech.append(cleaned_word)\n",
    "        speeches.at[row_i, 'speech'] = cleaned_speech"
   ]
  },
  {
   "cell_type": "code",
   "execution_count": 12,
   "id": "78f6d6cb",
   "metadata": {},
   "outputs": [],
   "source": [
    "speaker_names = ['امامی','اکبری','ابوترابی','صدیقی', 'خاتمی', 'موحدی', 'جنتی', 'خامنه', 'یزدی', 'هاشمی']\n",
    "for row_i in range(len(speeches)):\n",
    "    speaker = speeches.at[row_i, 'speaker']\n",
    "    found_flag = False\n",
    "    if 'رفسنجانی' in speaker:\n",
    "        speeches.at[row_i, 'speaker'] = 'هاشمی'\n",
    "        found_flag = True\n",
    "    if 'کاشان' in speaker:\n",
    "        speeches.at[row_i, 'speaker'] = 'امامی'\n",
    "        found_flag = True\n",
    "    if 'رهبر' in speaker or 'حضرت' in speaker:\n",
    "        speeches.at[row_i, 'speaker'] = 'خامنه'\n",
    "        found_flag = True\n",
    "    for name in speaker_names:\n",
    "        if name in speaker:\n",
    "            speeches.at[row_i, 'speaker'] = name\n",
    "            found_flag = True\n",
    "            continue\n",
    "    if not found_flag:\n",
    "        speeches.at[row_i, 'speaker'] = 'others'"
   ]
  },
  {
   "cell_type": "code",
   "execution_count": 13,
   "id": "4ff5128d",
   "metadata": {},
   "outputs": [],
   "source": [
    "clean_speeches()"
   ]
  },
  {
   "cell_type": "code",
   "execution_count": 14,
   "id": "83fc2151",
   "metadata": {},
   "outputs": [
    {
     "data": {
      "text/html": [
       "<div>\n",
       "<style scoped>\n",
       "    .dataframe tbody tr th:only-of-type {\n",
       "        vertical-align: middle;\n",
       "    }\n",
       "\n",
       "    .dataframe tbody tr th {\n",
       "        vertical-align: top;\n",
       "    }\n",
       "\n",
       "    .dataframe thead th {\n",
       "        text-align: right;\n",
       "    }\n",
       "</style>\n",
       "<table border=\"1\" class=\"dataframe\">\n",
       "  <thead>\n",
       "    <tr style=\"text-align: right;\">\n",
       "      <th></th>\n",
       "      <th>year</th>\n",
       "      <th>speaker</th>\n",
       "      <th>speech</th>\n",
       "      <th>n_words</th>\n",
       "    </tr>\n",
       "  </thead>\n",
       "  <tbody>\n",
       "    <tr>\n",
       "      <th>407</th>\n",
       "      <td>1394</td>\n",
       "      <td>موحدی</td>\n",
       "      <td>[خطيب, موقت, نماز, جمعه, تهران, بيان, اينکه, ک...</td>\n",
       "      <td>1264</td>\n",
       "    </tr>\n",
       "    <tr>\n",
       "      <th>408</th>\n",
       "      <td>1394</td>\n",
       "      <td>صدیقی</td>\n",
       "      <td>[خطيب, نماز, جمعه, تهران, تصريح, کرد, دانشگاه,...</td>\n",
       "      <td>1338</td>\n",
       "    </tr>\n",
       "    <tr>\n",
       "      <th>409</th>\n",
       "      <td>1394</td>\n",
       "      <td>موحدی</td>\n",
       "      <td>[آيت, الله, موحدي, کرماني, تأکيد, اينکه, مديري...</td>\n",
       "      <td>1047</td>\n",
       "    </tr>\n",
       "    <tr>\n",
       "      <th>410</th>\n",
       "      <td>1394</td>\n",
       "      <td>صدیقی</td>\n",
       "      <td>[خطيب, نماز, جمعه, هفته, تهران, ذات, جمهوري, ا...</td>\n",
       "      <td>1616</td>\n",
       "    </tr>\n",
       "    <tr>\n",
       "      <th>411</th>\n",
       "      <td>1394</td>\n",
       "      <td>جنتی</td>\n",
       "      <td>[آيت, الله, احمد, جنتي, برجام, تلقي, کنيم, بدا...</td>\n",
       "      <td>1249</td>\n",
       "    </tr>\n",
       "  </tbody>\n",
       "</table>\n",
       "</div>"
      ],
      "text/plain": [
       "     year speaker                                             speech  n_words\n",
       "407  1394   موحدی  [خطيب, موقت, نماز, جمعه, تهران, بيان, اينکه, ک...     1264\n",
       "408  1394   صدیقی  [خطيب, نماز, جمعه, تهران, تصريح, کرد, دانشگاه,...     1338\n",
       "409  1394   موحدی  [آيت, الله, موحدي, کرماني, تأکيد, اينکه, مديري...     1047\n",
       "410  1394   صدیقی  [خطيب, نماز, جمعه, هفته, تهران, ذات, جمهوري, ا...     1616\n",
       "411  1394    جنتی  [آيت, الله, احمد, جنتي, برجام, تلقي, کنيم, بدا...     1249"
      ]
     },
     "execution_count": 14,
     "metadata": {},
     "output_type": "execute_result"
    }
   ],
   "source": [
    "speeches.tail()"
   ]
  },
  {
   "cell_type": "code",
   "execution_count": 15,
   "id": "015a7e30",
   "metadata": {},
   "outputs": [],
   "source": [
    "speeches.to_csv('../data/cleaned_speeches.csv', sep='\\t')"
   ]
  }
 ],
 "metadata": {
  "kernelspec": {
   "display_name": "Python 3 (ipykernel)",
   "language": "python",
   "name": "python3"
  },
  "language_info": {
   "codemirror_mode": {
    "name": "ipython",
    "version": 3
   },
   "file_extension": ".py",
   "mimetype": "text/x-python",
   "name": "python",
   "nbconvert_exporter": "python",
   "pygments_lexer": "ipython3",
   "version": "3.9.7"
  }
 },
 "nbformat": 4,
 "nbformat_minor": 5
}
