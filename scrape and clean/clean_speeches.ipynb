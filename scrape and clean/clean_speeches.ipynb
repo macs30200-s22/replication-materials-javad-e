{
 "cells": [
  {
   "cell_type": "code",
   "execution_count": 177,
   "id": "311d4177",
   "metadata": {},
   "outputs": [],
   "source": [
    "import csv\n",
    "import re\n",
    "import pandas as pd\n",
    "import numpy as np\n",
    "import matplotlib.pyplot as plt\n",
    "import seaborn as sns\n",
    "import math\n",
    "import ast\n",
    "%matplotlib inline"
   ]
  },
  {
   "cell_type": "code",
   "execution_count": 178,
   "id": "65a9e907",
   "metadata": {},
   "outputs": [],
   "source": [
    "speeches1 = pd.read_csv(\"../data/speeches_77to80.csv\", sep='\\t')\n",
    "speeches2 = pd.read_csv(\"../data/speeches_91to96.csv\", sep='\\t')\n",
    "speeches3 = pd.read_csv(\"../data/speeches_97to00.csv\", sep='\\t')"
   ]
  },
  {
   "cell_type": "code",
   "execution_count": 179,
   "id": "37e09d23",
   "metadata": {},
   "outputs": [
    {
     "data": {
      "text/html": [
       "<div>\n",
       "<style scoped>\n",
       "    .dataframe tbody tr th:only-of-type {\n",
       "        vertical-align: middle;\n",
       "    }\n",
       "\n",
       "    .dataframe tbody tr th {\n",
       "        vertical-align: top;\n",
       "    }\n",
       "\n",
       "    .dataframe thead th {\n",
       "        text-align: right;\n",
       "    }\n",
       "</style>\n",
       "<table border=\"1\" class=\"dataframe\">\n",
       "  <thead>\n",
       "    <tr style=\"text-align: right;\">\n",
       "      <th></th>\n",
       "      <th>Unnamed: 0</th>\n",
       "      <th>year</th>\n",
       "      <th>speaker</th>\n",
       "      <th>speech</th>\n",
       "      <th>n_words</th>\n",
       "    </tr>\n",
       "  </thead>\n",
       "  <tbody>\n",
       "    <tr>\n",
       "      <th>0</th>\n",
       "      <td>0</td>\n",
       "      <td>1377</td>\n",
       "      <td>جنتی</td>\n",
       "      <td>['-', 'حضور', 'پرشور', 'مردم', 'در', 'راهپیمای...</td>\n",
       "      <td>721</td>\n",
       "    </tr>\n",
       "    <tr>\n",
       "      <th>1</th>\n",
       "      <td>1</td>\n",
       "      <td>1377</td>\n",
       "      <td>یزدی</td>\n",
       "      <td>['خطبه', 'اول', 'بسم', 'الله', 'الرحمن', 'الرح...</td>\n",
       "      <td>6305</td>\n",
       "    </tr>\n",
       "    <tr>\n",
       "      <th>2</th>\n",
       "      <td>2</td>\n",
       "      <td>1377</td>\n",
       "      <td>رفسنجانی23</td>\n",
       "      <td>['خطبه', 'اول', 'بسم', 'الله', 'الرحمن', 'الرح...</td>\n",
       "      <td>6589</td>\n",
       "    </tr>\n",
       "    <tr>\n",
       "      <th>3</th>\n",
       "      <td>3</td>\n",
       "      <td>1377</td>\n",
       "      <td>جنتی</td>\n",
       "      <td>['خطبه', 'اول.', 'بسم', 'الله', 'الرحمن', 'الر...</td>\n",
       "      <td>5311</td>\n",
       "    </tr>\n",
       "    <tr>\n",
       "      <th>4</th>\n",
       "      <td>4</td>\n",
       "      <td>1377</td>\n",
       "      <td>کاشانی</td>\n",
       "      <td>['خطبه', 'اول', 'بسم', 'الله', 'الرحمن', 'الرح...</td>\n",
       "      <td>5317</td>\n",
       "    </tr>\n",
       "    <tr>\n",
       "      <th>...</th>\n",
       "      <td>...</td>\n",
       "      <td>...</td>\n",
       "      <td>...</td>\n",
       "      <td>...</td>\n",
       "      <td>...</td>\n",
       "    </tr>\n",
       "    <tr>\n",
       "      <th>114</th>\n",
       "      <td>114</td>\n",
       "      <td>1380</td>\n",
       "      <td>یزدی</td>\n",
       "      <td>['بسم', 'الله', 'الرحمن', 'الرحیم', 'الحمد', '...</td>\n",
       "      <td>9231</td>\n",
       "    </tr>\n",
       "    <tr>\n",
       "      <th>115</th>\n",
       "      <td>115</td>\n",
       "      <td>1380</td>\n",
       "      <td>جنتی</td>\n",
       "      <td>['بسم', 'الله', 'الرحمن', 'الرحیم', 'الحمد', '...</td>\n",
       "      <td>4940</td>\n",
       "    </tr>\n",
       "    <tr>\n",
       "      <th>116</th>\n",
       "      <td>116</td>\n",
       "      <td>1380</td>\n",
       "      <td>هاشمی</td>\n",
       "      <td>['بسم', 'الله', 'الرحمن', 'الرحیم', 'الحمدلله'...</td>\n",
       "      <td>5246</td>\n",
       "    </tr>\n",
       "    <tr>\n",
       "      <th>117</th>\n",
       "      <td>117</td>\n",
       "      <td>1380</td>\n",
       "      <td>کاشانی</td>\n",
       "      <td>['بسم', 'الله', 'الرحمن', 'الرحیم', 'الحمدالله...</td>\n",
       "      <td>3450</td>\n",
       "    </tr>\n",
       "    <tr>\n",
       "      <th>118</th>\n",
       "      <td>118</td>\n",
       "      <td>1380</td>\n",
       "      <td>یزدی</td>\n",
       "      <td>['بسم', 'الله', 'الرحمن', 'الرحیم', 'الحمد', '...</td>\n",
       "      <td>6520</td>\n",
       "    </tr>\n",
       "  </tbody>\n",
       "</table>\n",
       "<p>119 rows × 5 columns</p>\n",
       "</div>"
      ],
      "text/plain": [
       "     Unnamed: 0  year     speaker  \\\n",
       "0             0  1377        جنتی   \n",
       "1             1  1377        یزدی   \n",
       "2             2  1377  رفسنجانی23   \n",
       "3             3  1377        جنتی   \n",
       "4             4  1377      کاشانی   \n",
       "..          ...   ...         ...   \n",
       "114         114  1380        یزدی   \n",
       "115         115  1380        جنتی   \n",
       "116         116  1380       هاشمی   \n",
       "117         117  1380      کاشانی   \n",
       "118         118  1380        یزدی   \n",
       "\n",
       "                                                speech  n_words  \n",
       "0    ['-', 'حضور', 'پرشور', 'مردم', 'در', 'راهپیمای...      721  \n",
       "1    ['خطبه', 'اول', 'بسم', 'الله', 'الرحمن', 'الرح...     6305  \n",
       "2    ['خطبه', 'اول', 'بسم', 'الله', 'الرحمن', 'الرح...     6589  \n",
       "3    ['خطبه', 'اول.', 'بسم', 'الله', 'الرحمن', 'الر...     5311  \n",
       "4    ['خطبه', 'اول', 'بسم', 'الله', 'الرحمن', 'الرح...     5317  \n",
       "..                                                 ...      ...  \n",
       "114  ['بسم', 'الله', 'الرحمن', 'الرحیم', 'الحمد', '...     9231  \n",
       "115  ['بسم', 'الله', 'الرحمن', 'الرحیم', 'الحمد', '...     4940  \n",
       "116  ['بسم', 'الله', 'الرحمن', 'الرحیم', 'الحمدلله'...     5246  \n",
       "117  ['بسم', 'الله', 'الرحمن', 'الرحیم', 'الحمدالله...     3450  \n",
       "118  ['بسم', 'الله', 'الرحمن', 'الرحیم', 'الحمد', '...     6520  \n",
       "\n",
       "[119 rows x 5 columns]"
      ]
     },
     "execution_count": 179,
     "metadata": {},
     "output_type": "execute_result"
    }
   ],
   "source": [
    "speeches1"
   ]
  },
  {
   "cell_type": "code",
   "execution_count": 180,
   "id": "cf23743b",
   "metadata": {},
   "outputs": [
    {
     "data": {
      "text/html": [
       "<div>\n",
       "<style scoped>\n",
       "    .dataframe tbody tr th:only-of-type {\n",
       "        vertical-align: middle;\n",
       "    }\n",
       "\n",
       "    .dataframe tbody tr th {\n",
       "        vertical-align: top;\n",
       "    }\n",
       "\n",
       "    .dataframe thead th {\n",
       "        text-align: right;\n",
       "    }\n",
       "</style>\n",
       "<table border=\"1\" class=\"dataframe\">\n",
       "  <thead>\n",
       "    <tr style=\"text-align: right;\">\n",
       "      <th></th>\n",
       "      <th>Unnamed: 0</th>\n",
       "      <th>year</th>\n",
       "      <th>speaker</th>\n",
       "      <th>speech</th>\n",
       "      <th>n_words</th>\n",
       "    </tr>\n",
       "  </thead>\n",
       "  <tbody>\n",
       "    <tr>\n",
       "      <th>0</th>\n",
       "      <td>0</td>\n",
       "      <td>1392</td>\n",
       "      <td>امامی</td>\n",
       "      <td>['خطیب', 'نماز', 'جمعه', 'این', 'هفته', 'تهران...</td>\n",
       "      <td>1164</td>\n",
       "    </tr>\n",
       "    <tr>\n",
       "      <th>1</th>\n",
       "      <td>1</td>\n",
       "      <td>1392</td>\n",
       "      <td>امامی</td>\n",
       "      <td>['خطیب', 'نماز', 'جمعه', 'این', 'هفته', 'تهران...</td>\n",
       "      <td>697</td>\n",
       "    </tr>\n",
       "    <tr>\n",
       "      <th>2</th>\n",
       "      <td>2</td>\n",
       "      <td>1392</td>\n",
       "      <td>صدیقی</td>\n",
       "      <td>['خطیب', 'نماز', 'جمعه', 'این', 'هفته', 'تهران...</td>\n",
       "      <td>1208</td>\n",
       "    </tr>\n",
       "    <tr>\n",
       "      <th>3</th>\n",
       "      <td>3</td>\n",
       "      <td>1392</td>\n",
       "      <td>موحدی</td>\n",
       "      <td>['امام', 'جمعه', 'ی', 'موقت', 'تهران', 'با', '...</td>\n",
       "      <td>930</td>\n",
       "    </tr>\n",
       "    <tr>\n",
       "      <th>4</th>\n",
       "      <td>4</td>\n",
       "      <td>1392</td>\n",
       "      <td>خاتمی</td>\n",
       "      <td>['خطیب', 'نماز', 'جمعه', 'این', 'هفته', 'تهران...</td>\n",
       "      <td>1232</td>\n",
       "    </tr>\n",
       "    <tr>\n",
       "      <th>...</th>\n",
       "      <td>...</td>\n",
       "      <td>...</td>\n",
       "      <td>...</td>\n",
       "      <td>...</td>\n",
       "      <td>...</td>\n",
       "    </tr>\n",
       "    <tr>\n",
       "      <th>141</th>\n",
       "      <td>68</td>\n",
       "      <td>1396</td>\n",
       "      <td>خاتمی</td>\n",
       "      <td>['خطیب', 'نماز', 'جمعه', 'این', 'هفته', 'تهران...</td>\n",
       "      <td>1219</td>\n",
       "    </tr>\n",
       "    <tr>\n",
       "      <th>142</th>\n",
       "      <td>69</td>\n",
       "      <td>1396</td>\n",
       "      <td>صدیقی</td>\n",
       "      <td>['خطیب', 'نماز', 'جمعه', 'این', 'هفته', 'تهران...</td>\n",
       "      <td>872</td>\n",
       "    </tr>\n",
       "    <tr>\n",
       "      <th>143</th>\n",
       "      <td>70</td>\n",
       "      <td>1396</td>\n",
       "      <td>امامی</td>\n",
       "      <td>['آیت', 'الله', 'امامی', 'کاشانی', 'گفت:', 'بی...</td>\n",
       "      <td>642</td>\n",
       "    </tr>\n",
       "    <tr>\n",
       "      <th>144</th>\n",
       "      <td>71</td>\n",
       "      <td>1396</td>\n",
       "      <td>صدیقی</td>\n",
       "      <td>['امام', 'جمعه', 'موقت', 'تهران', 'اظهار', 'کر...</td>\n",
       "      <td>1109</td>\n",
       "    </tr>\n",
       "    <tr>\n",
       "      <th>145</th>\n",
       "      <td>72</td>\n",
       "      <td>1396</td>\n",
       "      <td>موحدی</td>\n",
       "      <td>['حجت', 'الاسلام', 'والمسلمین', 'موحدی', 'کرما...</td>\n",
       "      <td>710</td>\n",
       "    </tr>\n",
       "  </tbody>\n",
       "</table>\n",
       "<p>146 rows × 5 columns</p>\n",
       "</div>"
      ],
      "text/plain": [
       "     Unnamed: 0  year speaker  \\\n",
       "0             0  1392   امامی   \n",
       "1             1  1392   امامی   \n",
       "2             2  1392   صدیقی   \n",
       "3             3  1392   موحدی   \n",
       "4             4  1392   خاتمی   \n",
       "..          ...   ...     ...   \n",
       "141          68  1396   خاتمی   \n",
       "142          69  1396   صدیقی   \n",
       "143          70  1396   امامی   \n",
       "144          71  1396   صدیقی   \n",
       "145          72  1396   موحدی   \n",
       "\n",
       "                                                speech  n_words  \n",
       "0    ['خطیب', 'نماز', 'جمعه', 'این', 'هفته', 'تهران...     1164  \n",
       "1    ['خطیب', 'نماز', 'جمعه', 'این', 'هفته', 'تهران...      697  \n",
       "2    ['خطیب', 'نماز', 'جمعه', 'این', 'هفته', 'تهران...     1208  \n",
       "3    ['امام', 'جمعه', 'ی', 'موقت', 'تهران', 'با', '...      930  \n",
       "4    ['خطیب', 'نماز', 'جمعه', 'این', 'هفته', 'تهران...     1232  \n",
       "..                                                 ...      ...  \n",
       "141  ['خطیب', 'نماز', 'جمعه', 'این', 'هفته', 'تهران...     1219  \n",
       "142  ['خطیب', 'نماز', 'جمعه', 'این', 'هفته', 'تهران...      872  \n",
       "143  ['آیت', 'الله', 'امامی', 'کاشانی', 'گفت:', 'بی...      642  \n",
       "144  ['امام', 'جمعه', 'موقت', 'تهران', 'اظهار', 'کر...     1109  \n",
       "145  ['حجت', 'الاسلام', 'والمسلمین', 'موحدی', 'کرما...      710  \n",
       "\n",
       "[146 rows x 5 columns]"
      ]
     },
     "execution_count": 180,
     "metadata": {},
     "output_type": "execute_result"
    }
   ],
   "source": [
    "speeches2 = pd.concat([speeches2, speeches2], ignore_index=True)\n",
    "speeches2"
   ]
  },
  {
   "cell_type": "code",
   "execution_count": 181,
   "id": "e58a4819",
   "metadata": {
    "scrolled": true
   },
   "outputs": [
    {
     "data": {
      "text/html": [
       "<div>\n",
       "<style scoped>\n",
       "    .dataframe tbody tr th:only-of-type {\n",
       "        vertical-align: middle;\n",
       "    }\n",
       "\n",
       "    .dataframe tbody tr th {\n",
       "        vertical-align: top;\n",
       "    }\n",
       "\n",
       "    .dataframe thead th {\n",
       "        text-align: right;\n",
       "    }\n",
       "</style>\n",
       "<table border=\"1\" class=\"dataframe\">\n",
       "  <thead>\n",
       "    <tr style=\"text-align: right;\">\n",
       "      <th></th>\n",
       "      <th>Unnamed: 0</th>\n",
       "      <th>year</th>\n",
       "      <th>speaker</th>\n",
       "      <th>speech</th>\n",
       "      <th>n_words</th>\n",
       "    </tr>\n",
       "  </thead>\n",
       "  <tbody>\n",
       "    <tr>\n",
       "      <th>0</th>\n",
       "      <td>0</td>\n",
       "      <td>1398</td>\n",
       "      <td>اکبری</td>\n",
       "      <td>['قال', 'الحکیم', 'فی', 'کتابه', 'الکریم:', '«...</td>\n",
       "      <td>3718</td>\n",
       "    </tr>\n",
       "    <tr>\n",
       "      <th>1</th>\n",
       "      <td>1</td>\n",
       "      <td>1398</td>\n",
       "      <td>اکبری</td>\n",
       "      <td>['خطبه', 'اول', '«عِبادَ', 'اللهِ', 'اُوصیکُم'...</td>\n",
       "      <td>3960</td>\n",
       "    </tr>\n",
       "    <tr>\n",
       "      <th>2</th>\n",
       "      <td>2</td>\n",
       "      <td>1398</td>\n",
       "      <td>اکبری</td>\n",
       "      <td>['«عِبادَ', 'اللهِ', 'اُوصیکُم', 'وَنَفسی', 'ب...</td>\n",
       "      <td>3050</td>\n",
       "    </tr>\n",
       "    <tr>\n",
       "      <th>3</th>\n",
       "      <td>3</td>\n",
       "      <td>1398</td>\n",
       "      <td>اکبری</td>\n",
       "      <td>['«عِبادَ', 'اللهِ', 'اُوصیکُم', 'وَنَفسی', 'ب...</td>\n",
       "      <td>3209</td>\n",
       "    </tr>\n",
       "    <tr>\n",
       "      <th>4</th>\n",
       "      <td>4</td>\n",
       "      <td>1398</td>\n",
       "      <td>اکبری</td>\n",
       "      <td>['خطبه', 'اول', 'قال', 'الحکیم', 'فی', 'کتابه'...</td>\n",
       "      <td>3078</td>\n",
       "    </tr>\n",
       "    <tr>\n",
       "      <th>...</th>\n",
       "      <td>...</td>\n",
       "      <td>...</td>\n",
       "      <td>...</td>\n",
       "      <td>...</td>\n",
       "      <td>...</td>\n",
       "    </tr>\n",
       "    <tr>\n",
       "      <th>105</th>\n",
       "      <td>105</td>\n",
       "      <td>1398</td>\n",
       "      <td>امامی</td>\n",
       "      <td>['امام', 'جمعه', 'موقت', 'تهران', 'از', 'همه',...</td>\n",
       "      <td>1383</td>\n",
       "    </tr>\n",
       "    <tr>\n",
       "      <th>106</th>\n",
       "      <td>106</td>\n",
       "      <td>1397</td>\n",
       "      <td>امامی</td>\n",
       "      <td>['خطیب', 'جمعه', 'تهران:', 'با', 'وحدت', 'حوزه...</td>\n",
       "      <td>1160</td>\n",
       "    </tr>\n",
       "    <tr>\n",
       "      <th>107</th>\n",
       "      <td>107</td>\n",
       "      <td>1397</td>\n",
       "      <td>ابوترابی</td>\n",
       "      <td>['خطیب', 'نماز', 'جمعه', 'تهران:', 'گسترش', 'ع...</td>\n",
       "      <td>1753</td>\n",
       "    </tr>\n",
       "    <tr>\n",
       "      <th>108</th>\n",
       "      <td>108</td>\n",
       "      <td>1397</td>\n",
       "      <td>موحدی</td>\n",
       "      <td>['خطیب', 'جمعه', 'تهران:', 'مسئولان', 'برای', ...</td>\n",
       "      <td>1217</td>\n",
       "    </tr>\n",
       "    <tr>\n",
       "      <th>109</th>\n",
       "      <td>109</td>\n",
       "      <td>1397</td>\n",
       "      <td>امامی</td>\n",
       "      <td>['امام', 'جمعه', 'موقت', 'تهران', 'مثلث', 'شوم...</td>\n",
       "      <td>1277</td>\n",
       "    </tr>\n",
       "  </tbody>\n",
       "</table>\n",
       "<p>110 rows × 5 columns</p>\n",
       "</div>"
      ],
      "text/plain": [
       "     Unnamed: 0  year   speaker  \\\n",
       "0             0  1398     اکبری   \n",
       "1             1  1398     اکبری   \n",
       "2             2  1398     اکبری   \n",
       "3             3  1398     اکبری   \n",
       "4             4  1398     اکبری   \n",
       "..          ...   ...       ...   \n",
       "105         105  1398     امامی   \n",
       "106         106  1397     امامی   \n",
       "107         107  1397  ابوترابی   \n",
       "108         108  1397     موحدی   \n",
       "109         109  1397     امامی   \n",
       "\n",
       "                                                speech  n_words  \n",
       "0    ['قال', 'الحکیم', 'فی', 'کتابه', 'الکریم:', '«...     3718  \n",
       "1    ['خطبه', 'اول', '«عِبادَ', 'اللهِ', 'اُوصیکُم'...     3960  \n",
       "2    ['«عِبادَ', 'اللهِ', 'اُوصیکُم', 'وَنَفسی', 'ب...     3050  \n",
       "3    ['«عِبادَ', 'اللهِ', 'اُوصیکُم', 'وَنَفسی', 'ب...     3209  \n",
       "4    ['خطبه', 'اول', 'قال', 'الحکیم', 'فی', 'کتابه'...     3078  \n",
       "..                                                 ...      ...  \n",
       "105  ['امام', 'جمعه', 'موقت', 'تهران', 'از', 'همه',...     1383  \n",
       "106  ['خطیب', 'جمعه', 'تهران:', 'با', 'وحدت', 'حوزه...     1160  \n",
       "107  ['خطیب', 'نماز', 'جمعه', 'تهران:', 'گسترش', 'ع...     1753  \n",
       "108  ['خطیب', 'جمعه', 'تهران:', 'مسئولان', 'برای', ...     1217  \n",
       "109  ['امام', 'جمعه', 'موقت', 'تهران', 'مثلث', 'شوم...     1277  \n",
       "\n",
       "[110 rows x 5 columns]"
      ]
     },
     "execution_count": 181,
     "metadata": {},
     "output_type": "execute_result"
    }
   ],
   "source": [
    "speeches3"
   ]
  },
  {
   "cell_type": "code",
   "execution_count": 182,
   "id": "81602210",
   "metadata": {},
   "outputs": [],
   "source": [
    "speeches = pd.concat([speeches1, speeches2, speeches3], ignore_index=True)"
   ]
  },
  {
   "cell_type": "code",
   "execution_count": 183,
   "id": "d7f85f56",
   "metadata": {},
   "outputs": [],
   "source": [
    "speeches = pd.concat([speeches, speeches[speeches['year']==1397]], ignore_index=True)\n",
    "speeches = pd.concat([speeches, speeches[speeches['year']==1395]], ignore_index=True)\n",
    "speeches = pd.concat([speeches, speeches[speeches['year']==1394]], ignore_index=True)"
   ]
  },
  {
   "cell_type": "code",
   "execution_count": 186,
   "id": "29311dae",
   "metadata": {},
   "outputs": [
    {
     "data": {
      "text/html": [
       "<div>\n",
       "<style scoped>\n",
       "    .dataframe tbody tr th:only-of-type {\n",
       "        vertical-align: middle;\n",
       "    }\n",
       "\n",
       "    .dataframe tbody tr th {\n",
       "        vertical-align: top;\n",
       "    }\n",
       "\n",
       "    .dataframe thead th {\n",
       "        text-align: right;\n",
       "    }\n",
       "</style>\n",
       "<table border=\"1\" class=\"dataframe\">\n",
       "  <thead>\n",
       "    <tr style=\"text-align: right;\">\n",
       "      <th></th>\n",
       "      <th>Unnamed: 0</th>\n",
       "      <th>speaker</th>\n",
       "      <th>speech</th>\n",
       "      <th>n_words</th>\n",
       "    </tr>\n",
       "    <tr>\n",
       "      <th>year</th>\n",
       "      <th></th>\n",
       "      <th></th>\n",
       "      <th></th>\n",
       "      <th></th>\n",
       "    </tr>\n",
       "  </thead>\n",
       "  <tbody>\n",
       "    <tr>\n",
       "      <th>1377</th>\n",
       "      <td>7</td>\n",
       "      <td>7</td>\n",
       "      <td>7</td>\n",
       "      <td>7</td>\n",
       "    </tr>\n",
       "    <tr>\n",
       "      <th>1378</th>\n",
       "      <td>36</td>\n",
       "      <td>36</td>\n",
       "      <td>36</td>\n",
       "      <td>36</td>\n",
       "    </tr>\n",
       "    <tr>\n",
       "      <th>1379</th>\n",
       "      <td>40</td>\n",
       "      <td>40</td>\n",
       "      <td>40</td>\n",
       "      <td>40</td>\n",
       "    </tr>\n",
       "    <tr>\n",
       "      <th>1380</th>\n",
       "      <td>36</td>\n",
       "      <td>36</td>\n",
       "      <td>36</td>\n",
       "      <td>36</td>\n",
       "    </tr>\n",
       "    <tr>\n",
       "      <th>1392</th>\n",
       "      <td>32</td>\n",
       "      <td>32</td>\n",
       "      <td>32</td>\n",
       "      <td>32</td>\n",
       "    </tr>\n",
       "    <tr>\n",
       "      <th>1393</th>\n",
       "      <td>34</td>\n",
       "      <td>34</td>\n",
       "      <td>34</td>\n",
       "      <td>34</td>\n",
       "    </tr>\n",
       "    <tr>\n",
       "      <th>1394</th>\n",
       "      <td>48</td>\n",
       "      <td>48</td>\n",
       "      <td>48</td>\n",
       "      <td>48</td>\n",
       "    </tr>\n",
       "    <tr>\n",
       "      <th>1395</th>\n",
       "      <td>52</td>\n",
       "      <td>52</td>\n",
       "      <td>52</td>\n",
       "      <td>52</td>\n",
       "    </tr>\n",
       "    <tr>\n",
       "      <th>1396</th>\n",
       "      <td>34</td>\n",
       "      <td>34</td>\n",
       "      <td>34</td>\n",
       "      <td>34</td>\n",
       "    </tr>\n",
       "    <tr>\n",
       "      <th>1397</th>\n",
       "      <td>46</td>\n",
       "      <td>46</td>\n",
       "      <td>46</td>\n",
       "      <td>46</td>\n",
       "    </tr>\n",
       "    <tr>\n",
       "      <th>1398</th>\n",
       "      <td>52</td>\n",
       "      <td>52</td>\n",
       "      <td>52</td>\n",
       "      <td>52</td>\n",
       "    </tr>\n",
       "    <tr>\n",
       "      <th>1400</th>\n",
       "      <td>31</td>\n",
       "      <td>31</td>\n",
       "      <td>31</td>\n",
       "      <td>31</td>\n",
       "    </tr>\n",
       "  </tbody>\n",
       "</table>\n",
       "</div>"
      ],
      "text/plain": [
       "      Unnamed: 0  speaker  speech  n_words\n",
       "year                                      \n",
       "1377           7        7       7        7\n",
       "1378          36       36      36       36\n",
       "1379          40       40      40       40\n",
       "1380          36       36      36       36\n",
       "1392          32       32      32       32\n",
       "1393          34       34      34       34\n",
       "1394          48       48      48       48\n",
       "1395          52       52      52       52\n",
       "1396          34       34      34       34\n",
       "1397          46       46      46       46\n",
       "1398          52       52      52       52\n",
       "1400          31       31      31       31"
      ]
     },
     "execution_count": 186,
     "metadata": {},
     "output_type": "execute_result"
    }
   ],
   "source": [
    "speeches.groupby('year').count()"
   ]
  },
  {
   "cell_type": "code",
   "execution_count": 187,
   "id": "4f7e7332",
   "metadata": {},
   "outputs": [],
   "source": [
    "stp_file = open(\"persian_stp.txt\", \"r\")\n",
    "stp_words = stp_file.read()\n",
    "stp_words = stp_words.split(\"\\n\")\n",
    "stp_file.close()"
   ]
  },
  {
   "cell_type": "code",
   "execution_count": 188,
   "id": "ac25026c",
   "metadata": {},
   "outputs": [],
   "source": [
    "def clean_word(w):\n",
    "    stp_w_flag = False\n",
    "    \n",
    "    symbols = ['!','\"','\\#','\\(','\\)','\\*',',','-','.',':','«','»','،',\n",
    "               '؛','؟','۰','۱','۲','۳','۴','۵','۶','۷','۸','۹','…', 'ی']\n",
    "    for char in symbols:\n",
    "        cleaned_w = re.sub(char, '', w)\n",
    "        \n",
    "    if w in stp_words:\n",
    "        stp_w_flag = True\n",
    "        cleaned_w = ''\n",
    "    \n",
    "    return cleaned_w, stp_w_flag"
   ]
  },
  {
   "cell_type": "code",
   "execution_count": 189,
   "id": "daf92ac5",
   "metadata": {},
   "outputs": [],
   "source": [
    "def clean_speeches():\n",
    "    for row_i in range(len(speeches)):\n",
    "        speech = ast.literal_eval(speeches.at[row_i, 'speech'])\n",
    "        cleaned_speech = []\n",
    "        for word in speech:\n",
    "            cleaned_word, stp_w_flag = clean_word(word)\n",
    "            if not stp_w_flag:\n",
    "                cleaned_speech.append(cleaned_word)\n",
    "        speeches.at[row_i, 'speech'] = cleaned_speech"
   ]
  },
  {
   "cell_type": "code",
   "execution_count": 190,
   "id": "4ff5128d",
   "metadata": {},
   "outputs": [],
   "source": [
    "clean_speeches()"
   ]
  },
  {
   "cell_type": "code",
   "execution_count": 191,
   "id": "83fc2151",
   "metadata": {},
   "outputs": [
    {
     "data": {
      "text/html": [
       "<div>\n",
       "<style scoped>\n",
       "    .dataframe tbody tr th:only-of-type {\n",
       "        vertical-align: middle;\n",
       "    }\n",
       "\n",
       "    .dataframe tbody tr th {\n",
       "        vertical-align: top;\n",
       "    }\n",
       "\n",
       "    .dataframe thead th {\n",
       "        text-align: right;\n",
       "    }\n",
       "</style>\n",
       "<table border=\"1\" class=\"dataframe\">\n",
       "  <thead>\n",
       "    <tr style=\"text-align: right;\">\n",
       "      <th></th>\n",
       "      <th>Unnamed: 0</th>\n",
       "      <th>year</th>\n",
       "      <th>speaker</th>\n",
       "      <th>speech</th>\n",
       "      <th>n_words</th>\n",
       "    </tr>\n",
       "  </thead>\n",
       "  <tbody>\n",
       "    <tr>\n",
       "      <th>0</th>\n",
       "      <td>0</td>\n",
       "      <td>1377</td>\n",
       "      <td>جنتی</td>\n",
       "      <td>[-, حضور, پرشور, راهپما, 22, بهمن, درس, عبرت, ...</td>\n",
       "      <td>721</td>\n",
       "    </tr>\n",
       "    <tr>\n",
       "      <th>1</th>\n",
       "      <td>1</td>\n",
       "      <td>1377</td>\n",
       "      <td>یزدی</td>\n",
       "      <td>[خطبه, بسم, الله, الرحمن, الرحم, الحمد, لله, ر...</td>\n",
       "      <td>6305</td>\n",
       "    </tr>\n",
       "    <tr>\n",
       "      <th>2</th>\n",
       "      <td>2</td>\n",
       "      <td>1377</td>\n",
       "      <td>رفسنجانی23</td>\n",
       "      <td>[خطبه, بسم, الله, الرحمن, الرحم, والصلاه, السل...</td>\n",
       "      <td>6589</td>\n",
       "    </tr>\n",
       "    <tr>\n",
       "      <th>3</th>\n",
       "      <td>3</td>\n",
       "      <td>1377</td>\n",
       "      <td>جنتی</td>\n",
       "      <td>[خطبه, اول., بسم, الله, الرحمن, الرحم., والصلا...</td>\n",
       "      <td>5311</td>\n",
       "    </tr>\n",
       "    <tr>\n",
       "      <th>4</th>\n",
       "      <td>4</td>\n",
       "      <td>1377</td>\n",
       "      <td>کاشانی</td>\n",
       "      <td>[خطبه, بسم, الله, الرحمن, الرحم, نحمده, نستعنه...</td>\n",
       "      <td>5317</td>\n",
       "    </tr>\n",
       "  </tbody>\n",
       "</table>\n",
       "</div>"
      ],
      "text/plain": [
       "   Unnamed: 0  year     speaker  \\\n",
       "0           0  1377        جنتی   \n",
       "1           1  1377        یزدی   \n",
       "2           2  1377  رفسنجانی23   \n",
       "3           3  1377        جنتی   \n",
       "4           4  1377      کاشانی   \n",
       "\n",
       "                                              speech  n_words  \n",
       "0  [-, حضور, پرشور, راهپما, 22, بهمن, درس, عبرت, ...      721  \n",
       "1  [خطبه, بسم, الله, الرحمن, الرحم, الحمد, لله, ر...     6305  \n",
       "2  [خطبه, بسم, الله, الرحمن, الرحم, والصلاه, السل...     6589  \n",
       "3  [خطبه, اول., بسم, الله, الرحمن, الرحم., والصلا...     5311  \n",
       "4  [خطبه, بسم, الله, الرحمن, الرحم, نحمده, نستعنه...     5317  "
      ]
     },
     "execution_count": 191,
     "metadata": {},
     "output_type": "execute_result"
    }
   ],
   "source": [
    "speeches.head()"
   ]
  },
  {
   "cell_type": "code",
   "execution_count": 193,
   "id": "015a7e30",
   "metadata": {},
   "outputs": [],
   "source": [
    "speeches.to_csv('./data/cleaned_speeches.csv', sep='\\t')"
   ]
  },
  {
   "cell_type": "code",
   "execution_count": null,
   "id": "9cd87e3a",
   "metadata": {},
   "outputs": [],
   "source": []
  },
  {
   "cell_type": "code",
   "execution_count": null,
   "id": "ad12ac9e",
   "metadata": {},
   "outputs": [],
   "source": []
  },
  {
   "cell_type": "code",
   "execution_count": 6,
   "id": "4935c724",
   "metadata": {},
   "outputs": [],
   "source": [
    "def count_instances(df, word):\n",
    "    counter = 0\n",
    "    n_words_mean = df['n_words'].mean()\n",
    "    for i in range(len(df)):\n",
    "        row = df.iloc[i]\n",
    "        for w in ast.literal_eval(row['speech']):\n",
    "            if word in w:\n",
    "                counter = counter + 1\n",
    "    return counter/n_words_mean*100"
   ]
  },
  {
   "cell_type": "code",
   "execution_count": 7,
   "id": "b1e7bd8a",
   "metadata": {},
   "outputs": [],
   "source": [
    "def compare(word):\n",
    "    count1 = (count_instances(speeches1, word))\n",
    "    count2 = (count_instances(speeches2, word))\n",
    "    count3 = (count_instances(speeches3, word))\n",
    "    print(round(count1,2), round(count2,2), round(count3,2))"
   ]
  },
  {
   "cell_type": "code",
   "execution_count": 8,
   "id": "26b3b189",
   "metadata": {},
   "outputs": [
    {
     "name": "stdout",
     "output_type": "stream",
     "text": [
      "15.84 51.24 32.33\n"
     ]
    }
   ],
   "source": [
    "compare(\"آمریکا\")"
   ]
  },
  {
   "cell_type": "code",
   "execution_count": 9,
   "id": "c8e99038",
   "metadata": {},
   "outputs": [
    {
     "data": {
      "text/plain": [
       "1100.6438356164383"
      ]
     },
     "execution_count": 9,
     "metadata": {},
     "output_type": "execute_result"
    }
   ],
   "source": [
    "speeches2['n_words'].mean()"
   ]
  },
  {
   "cell_type": "code",
   "execution_count": 12,
   "id": "eae21270",
   "metadata": {},
   "outputs": [
    {
     "data": {
      "text/html": [
       "<div>\n",
       "<style scoped>\n",
       "    .dataframe tbody tr th:only-of-type {\n",
       "        vertical-align: middle;\n",
       "    }\n",
       "\n",
       "    .dataframe tbody tr th {\n",
       "        vertical-align: top;\n",
       "    }\n",
       "\n",
       "    .dataframe thead th {\n",
       "        text-align: right;\n",
       "    }\n",
       "</style>\n",
       "<table border=\"1\" class=\"dataframe\">\n",
       "  <thead>\n",
       "    <tr style=\"text-align: right;\">\n",
       "      <th></th>\n",
       "      <th>Unnamed: 0</th>\n",
       "      <th>speaker</th>\n",
       "      <th>speech</th>\n",
       "      <th>n_words</th>\n",
       "    </tr>\n",
       "    <tr>\n",
       "      <th>year</th>\n",
       "      <th></th>\n",
       "      <th></th>\n",
       "      <th></th>\n",
       "      <th></th>\n",
       "    </tr>\n",
       "  </thead>\n",
       "  <tbody>\n",
       "    <tr>\n",
       "      <th>1377</th>\n",
       "      <td>7</td>\n",
       "      <td>7</td>\n",
       "      <td>7</td>\n",
       "      <td>7</td>\n",
       "    </tr>\n",
       "    <tr>\n",
       "      <th>1378</th>\n",
       "      <td>36</td>\n",
       "      <td>36</td>\n",
       "      <td>36</td>\n",
       "      <td>36</td>\n",
       "    </tr>\n",
       "    <tr>\n",
       "      <th>1379</th>\n",
       "      <td>40</td>\n",
       "      <td>40</td>\n",
       "      <td>40</td>\n",
       "      <td>40</td>\n",
       "    </tr>\n",
       "    <tr>\n",
       "      <th>1380</th>\n",
       "      <td>36</td>\n",
       "      <td>36</td>\n",
       "      <td>36</td>\n",
       "      <td>36</td>\n",
       "    </tr>\n",
       "    <tr>\n",
       "      <th>1392</th>\n",
       "      <td>32</td>\n",
       "      <td>32</td>\n",
       "      <td>32</td>\n",
       "      <td>32</td>\n",
       "    </tr>\n",
       "    <tr>\n",
       "      <th>1393</th>\n",
       "      <td>34</td>\n",
       "      <td>34</td>\n",
       "      <td>34</td>\n",
       "      <td>34</td>\n",
       "    </tr>\n",
       "    <tr>\n",
       "      <th>1394</th>\n",
       "      <td>48</td>\n",
       "      <td>48</td>\n",
       "      <td>48</td>\n",
       "      <td>48</td>\n",
       "    </tr>\n",
       "    <tr>\n",
       "      <th>1395</th>\n",
       "      <td>52</td>\n",
       "      <td>52</td>\n",
       "      <td>52</td>\n",
       "      <td>52</td>\n",
       "    </tr>\n",
       "    <tr>\n",
       "      <th>1396</th>\n",
       "      <td>34</td>\n",
       "      <td>34</td>\n",
       "      <td>34</td>\n",
       "      <td>34</td>\n",
       "    </tr>\n",
       "    <tr>\n",
       "      <th>1397</th>\n",
       "      <td>46</td>\n",
       "      <td>46</td>\n",
       "      <td>46</td>\n",
       "      <td>46</td>\n",
       "    </tr>\n",
       "    <tr>\n",
       "      <th>1398</th>\n",
       "      <td>52</td>\n",
       "      <td>52</td>\n",
       "      <td>52</td>\n",
       "      <td>52</td>\n",
       "    </tr>\n",
       "    <tr>\n",
       "      <th>1400</th>\n",
       "      <td>31</td>\n",
       "      <td>31</td>\n",
       "      <td>31</td>\n",
       "      <td>31</td>\n",
       "    </tr>\n",
       "  </tbody>\n",
       "</table>\n",
       "</div>"
      ],
      "text/plain": [
       "      Unnamed: 0  speaker  speech  n_words\n",
       "year                                      \n",
       "1377           7        7       7        7\n",
       "1378          36       36      36       36\n",
       "1379          40       40      40       40\n",
       "1380          36       36      36       36\n",
       "1392          32       32      32       32\n",
       "1393          34       34      34       34\n",
       "1394          48       48      48       48\n",
       "1395          52       52      52       52\n",
       "1396          34       34      34       34\n",
       "1397          46       46      46       46\n",
       "1398          52       52      52       52\n",
       "1400          31       31      31       31"
      ]
     },
     "execution_count": 12,
     "metadata": {},
     "output_type": "execute_result"
    }
   ],
   "source": [
    "speeches.groupby('year').count()"
   ]
  },
  {
   "cell_type": "code",
   "execution_count": 193,
   "id": "ab3359b5",
   "metadata": {},
   "outputs": [
    {
     "data": {
      "text/plain": [
       "448"
      ]
     },
     "execution_count": 193,
     "metadata": {},
     "output_type": "execute_result"
    }
   ],
   "source": [
    "len(speeches)"
   ]
  },
  {
   "cell_type": "code",
   "execution_count": null,
   "id": "085124ec",
   "metadata": {},
   "outputs": [],
   "source": []
  },
  {
   "cell_type": "code",
   "execution_count": 13,
   "id": "3cfba358",
   "metadata": {},
   "outputs": [],
   "source": [
    "YEARS = list(range(1378, 1381)) + list(range(1392, 1399)) + [1400]"
   ]
  },
  {
   "cell_type": "code",
   "execution_count": 98,
   "id": "6d7851ff",
   "metadata": {},
   "outputs": [],
   "source": [
    "def annual_freq(word):\n",
    "    freqs = []\n",
    "    for year in YEARS:\n",
    "        speeches = pd.concat([speeches1, speeches2, speeches3], ignore_index=True)\n",
    "        freqs.append(count_instances(speeches[speeches['year']==year], word) / len(speeches[speeches['year']==year]))\n",
    "    \n",
    "    return freqs"
   ]
  },
  {
   "cell_type": "code",
   "execution_count": 15,
   "id": "b7210736",
   "metadata": {},
   "outputs": [
    {
     "data": {
      "text/plain": [
       "[0.4236525202029296,\n",
       " 0.26167164569659174,\n",
       " 0.13945380592678677,\n",
       " 0.5213220727765614,\n",
       " 0.5058680696074465,\n",
       " 0.0,\n",
       " 0.8165264962848044,\n",
       " 1.6043638697256537,\n",
       " 0.0,\n",
       " 4.682183770510566,\n",
       " 0.6089392278650592]"
      ]
     },
     "execution_count": 15,
     "metadata": {},
     "output_type": "execute_result"
    }
   ],
   "source": [
    "annual_freq('خامنه')"
   ]
  },
  {
   "cell_type": "code",
   "execution_count": 16,
   "id": "6d2a25cf",
   "metadata": {},
   "outputs": [
    {
     "data": {
      "text/plain": [
       "[<matplotlib.lines.Line2D at 0x7fdee9747370>]"
      ]
     },
     "execution_count": 16,
     "metadata": {},
     "output_type": "execute_result"
    },
    {
     "data": {
      "image/png": "[encoded data removed]",
      "text/plain": [
       "<Figure size 432x288 with 1 Axes>"
      ]
     },
     "metadata": {
      "needs_background": "light"
     },
     "output_type": "display_data"
    }
   ],
   "source": [
    "years_s = [str(y) for y in YEARS]\n",
    "freqs = annual_freq('فساد')\n",
    "plt.plot(years_s, freqs, color='green', linestyle='dotted')\n",
    "# plt.plot(years[0:4], freqs[0:4], color='green')\n",
    "# plt.plot(years[5:9], freqs[5:9], color='green')\n",
    "freqs = annual_freq('مافیا')\n",
    "plt.plot(years_s, freqs, color='orange', linestyle='dotted')\n",
    "# plt.plot(years[0:4], freqs[0:4], color='orange')\n",
    "# plt.plot(years[5:9], freqs[5:9], color='orange')"
   ]
  },
  {
   "cell_type": "code",
   "execution_count": 17,
   "id": "62c48c2f",
   "metadata": {},
   "outputs": [
    {
     "data": {
      "text/plain": [
       "[<matplotlib.lines.Line2D at 0x7fdefc5c2070>]"
      ]
     },
     "execution_count": 17,
     "metadata": {},
     "output_type": "execute_result"
    },
    {
     "data": {
      "image/png": "[encoded data removed]",
      "text/plain": [
       "<Figure size 432x288 with 1 Axes>"
      ]
     },
     "metadata": {
      "needs_background": "light"
     },
     "output_type": "display_data"
    }
   ],
   "source": [
    "from scipy.interpolate import make_interp_spline\n",
    "\n",
    "years_g = list(range(1389,1401))\n",
    "years_g.remove(1399)\n",
    "\n",
    "freqs = annual_freq('گرانی')\n",
    "X_Y_Spline = make_interp_spline(years_g, freqs)\n",
    "X_ = np.linspace(years_g[0], years_g[-1], 500)\n",
    "Y_ = X_Y_Spline(X_)\n",
    "plt.plot(X_, Y_)\n",
    "\n",
    "freqs = annual_freq('تورم')\n",
    "X_Y_Spline = make_interp_spline(years_g, freqs)\n",
    "X_ = np.linspace(years_g[0], years_g[-1], 500)\n",
    "Y_ = X_Y_Spline(X_)\n",
    "plt.plot(X_, Y_)"
   ]
  },
  {
   "cell_type": "code",
   "execution_count": 18,
   "id": "6b4ce642",
   "metadata": {},
   "outputs": [
    {
     "data": {
      "text/plain": [
       "<matplotlib.lines.Line2D at 0x7fdee97b9880>"
      ]
     },
     "execution_count": 18,
     "metadata": {},
     "output_type": "execute_result"
    },
    {
     "data": {
      "image/png": "[encoded data removed]",
      "text/plain": [
       "<Figure size 432x288 with 1 Axes>"
      ]
     },
     "metadata": {
      "needs_background": "light"
     },
     "output_type": "display_data"
    }
   ],
   "source": [
    "from scipy.interpolate import make_interp_spline\n",
    "\n",
    "freqs = annual_freq('مذاکر')\n",
    "X_Y_Spline = make_interp_spline(years_g[3:], freqs[3:])\n",
    "X_ = np.linspace(years_g[3], years_g[-1], 500)\n",
    "Y_ = X_Y_Spline(X_)\n",
    "plt.plot(X_, Y_)\n",
    "\n",
    "\n",
    "freqs = annual_freq('آمریکا')\n",
    "X_Y_Spline = make_interp_spline(years_g[3:], freqs[3:])\n",
    "X_ = np.linspace(years_g[3], years_g[-1], 500)\n",
    "Y_ = X_Y_Spline(X_)\n",
    "plt.plot(X_, Y_)\n",
    "plt.axvline(x=1393, linestyle='dotted')\n",
    "plt.axvline(x=1397, linestyle='dotted')\n",
    "plt.axvline(x=1400, linestyle='dotted')"
   ]
  },
  {
   "cell_type": "code",
   "execution_count": 22,
   "id": "c3800431",
   "metadata": {},
   "outputs": [
    {
     "data": {
      "text/plain": [
       "list"
      ]
     },
     "execution_count": 22,
     "metadata": {},
     "output_type": "execute_result"
    }
   ],
   "source": [
    "type(years)"
   ]
  },
  {
   "cell_type": "code",
   "execution_count": 155,
   "id": "f652bdf2",
   "metadata": {},
   "outputs": [],
   "source": [
    "economic_w = ['گرانی', 'تورم', 'اقتصاد', 'تحریم' , 'فقر', 'قیمت', 'بورس', 'مالیات']"
   ]
  },
  {
   "cell_type": "code",
   "execution_count": 156,
   "id": "d6113a34",
   "metadata": {},
   "outputs": [],
   "source": [
    "def categorical_freqs(category_w):\n",
    "    all_freqs = [0] * len(YEARS)\n",
    "    for w in category_w:\n",
    "        single_w_freqs = annual_freq(w)\n",
    "        for i, f in enumerate(single_w_freqs):\n",
    "            all_freqs[i] = all_freqs[i] + f\n",
    "    \n",
    "    for i, _ in enumerate(all_freqs):\n",
    "            all_freqs[i] = all_freqs[i] / len(category_w)\n",
    "            \n",
    "    return all_freqs"
   ]
  },
  {
   "cell_type": "code",
   "execution_count": 157,
   "id": "8f1a276e",
   "metadata": {},
   "outputs": [],
   "source": [
    "economic_freqs = categorical_freqs(economic_w)"
   ]
  },
  {
   "cell_type": "code",
   "execution_count": 158,
   "id": "87dc15ec",
   "metadata": {},
   "outputs": [
    {
     "data": {
      "text/plain": [
       "Text(0, 0.5, 'Frequency')"
      ]
     },
     "execution_count": 158,
     "metadata": {},
     "output_type": "execute_result"
    },
    {
     "data": {
      "image/png": "[encoded data removed]",
      "text/plain": [
       "<Figure size 432x288 with 1 Axes>"
      ]
     },
     "metadata": {
      "needs_background": "light"
     },
     "output_type": "display_data"
    }
   ],
   "source": [
    "X_Y_Spline = make_interp_spline(years_g, economic_freqs)\n",
    "X_ = np.linspace(years_g[0], years_g[-1], 500)\n",
    "Y_ = X_Y_Spline(X_)\n",
    "plt.plot(X_, Y_)\n",
    "plt.axvline(x=1392, linestyle='dotted', label='Election')\n",
    "plt.axvline(x=1396, linestyle='dotted')\n",
    "plt.axvline(x=1400, linestyle='dotted')\n",
    "plt.title('Attention to Economic Topics')\n",
    "plt.xlabel(\"Years\")\n",
    "plt.ylabel(\"Frequency\")"
   ]
  },
  {
   "cell_type": "code",
   "execution_count": 133,
   "id": "56543dc0",
   "metadata": {},
   "outputs": [],
   "source": [
    "unpragmatic_w = ['مقاومتی', 'بانک', 'کفایی', 'مشت', 'دهان', 'شکستن', 'هسته']"
   ]
  },
  {
   "cell_type": "code",
   "execution_count": 134,
   "id": "f7e008ca",
   "metadata": {},
   "outputs": [
    {
     "data": {
      "text/plain": [
       "Text(0, 0.5, 'Frequency')"
      ]
     },
     "execution_count": 134,
     "metadata": {},
     "output_type": "execute_result"
    },
    {
     "data": {
      "image/png": "[encoded data removed]",
      "text/plain": [
       "<Figure size 432x288 with 1 Axes>"
      ]
     },
     "metadata": {
      "needs_background": "light"
     },
     "output_type": "display_data"
    }
   ],
   "source": [
    "unpragmatic_freqs = categorical_freqs(unpragmatic_w)\n",
    "\n",
    "X_Y_Spline = make_interp_spline(years_g, unpragmatic_freqs)\n",
    "X_ = np.linspace(years_g[0], years_g[-1], 500)\n",
    "Y_ = X_Y_Spline(X_)\n",
    "plt.plot(X_, Y_)\n",
    "plt.axvline(x=1392, linestyle='dotted')\n",
    "plt.axvline(x=1396, linestyle='dotted')\n",
    "plt.axvline(x=1400, linestyle='dotted')\n",
    "plt.title('Promoting Unpragmatic Policies')\n",
    "plt.xlabel(\"Years\")\n",
    "plt.ylabel(\"Frequency\")"
   ]
  },
  {
   "cell_type": "code",
   "execution_count": 191,
   "id": "b246cfa2",
   "metadata": {},
   "outputs": [],
   "source": [
    "socialist_w = ['بیمه', 'جهادی', 'طبقات', 'بسیج', 'یارانه', 'کوپن', 'گندم']"
   ]
  },
  {
   "cell_type": "code",
   "execution_count": 192,
   "id": "425fc01c",
   "metadata": {},
   "outputs": [
    {
     "data": {
      "text/plain": [
       "Text(0, 0.5, 'Frequency')"
      ]
     },
     "execution_count": 192,
     "metadata": {},
     "output_type": "execute_result"
    },
    {
     "data": {
      "image/png": "[encoded data removed]",
      "text/plain": [
       "<Figure size 432x288 with 1 Axes>"
      ]
     },
     "metadata": {
      "needs_background": "light"
     },
     "output_type": "display_data"
    }
   ],
   "source": [
    "socialist_freqs = categorical_freqs(socialist_w)\n",
    "\n",
    "X_Y_Spline = make_interp_spline(years_g, socialist_freqs)\n",
    "X_ = np.linspace(years_g[0], years_g[-1], 500)\n",
    "Y_ = X_Y_Spline(X_)\n",
    "plt.plot(X_, Y_)\n",
    "plt.axvline(x=1392, linestyle='dotted')\n",
    "plt.axvline(x=1396, linestyle='dotted')\n",
    "plt.axvline(x=1400, linestyle='dotted')\n",
    "plt.title('Promoting Socialist Ideas')\n",
    "plt.xlabel(\"Years\")\n",
    "plt.ylabel(\"Frequency\")"
   ]
  },
  {
   "cell_type": "code",
   "execution_count": null,
   "id": "1d5c5ea0",
   "metadata": {},
   "outputs": [],
   "source": []
  }
 ],
 "metadata": {
  "kernelspec": {
   "display_name": "Python 3 (ipykernel)",
   "language": "python",
   "name": "python3"
  },
  "language_info": {
   "codemirror_mode": {
    "name": "ipython",
    "version": 3
   },
   "file_extension": ".py",
   "mimetype": "text/x-python",
   "name": "python",
   "nbconvert_exporter": "python",
   "pygments_lexer": "ipython3",
   "version": "3.9.7"
  }
 },
 "nbformat": 4,
 "nbformat_minor": 5
}
