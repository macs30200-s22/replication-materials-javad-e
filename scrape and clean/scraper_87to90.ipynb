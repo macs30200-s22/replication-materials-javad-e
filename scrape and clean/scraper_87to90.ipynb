{
 "cells": [
  {
   "cell_type": "code",
   "execution_count": 1,
   "id": "5f2d5705",
   "metadata": {},
   "outputs": [],
   "source": [
    "import requests\n",
    "from bs4 import BeautifulSoup\n",
    "import csv\n",
    "import re\n",
    "import pandas as pd"
   ]
  },
  {
   "cell_type": "code",
   "execution_count": 2,
   "id": "a2d75cda",
   "metadata": {},
   "outputs": [],
   "source": [
    "data = pd.DataFrame(columns=['year', 'speaker', 'speech', 'n_words'])"
   ]
  },
  {
   "cell_type": "code",
   "execution_count": 3,
   "id": "1aa345df",
   "metadata": {},
   "outputs": [
    {
     "data": {
      "text/html": [
       "<div>\n",
       "<style scoped>\n",
       "    .dataframe tbody tr th:only-of-type {\n",
       "        vertical-align: middle;\n",
       "    }\n",
       "\n",
       "    .dataframe tbody tr th {\n",
       "        vertical-align: top;\n",
       "    }\n",
       "\n",
       "    .dataframe thead th {\n",
       "        text-align: right;\n",
       "    }\n",
       "</style>\n",
       "<table border=\"1\" class=\"dataframe\">\n",
       "  <thead>\n",
       "    <tr style=\"text-align: right;\">\n",
       "      <th></th>\n",
       "      <th>year</th>\n",
       "      <th>speaker</th>\n",
       "      <th>speech</th>\n",
       "      <th>n_words</th>\n",
       "    </tr>\n",
       "  </thead>\n",
       "  <tbody>\n",
       "  </tbody>\n",
       "</table>\n",
       "</div>"
      ],
      "text/plain": [
       "Empty DataFrame\n",
       "Columns: [year, speaker, speech, n_words]\n",
       "Index: []"
      ]
     },
     "execution_count": 3,
     "metadata": {},
     "output_type": "execute_result"
    }
   ],
   "source": [
    "data"
   ]
  },
  {
   "cell_type": "code",
   "execution_count": 4,
   "id": "40965190",
   "metadata": {},
   "outputs": [],
   "source": [
    "base_url = \"https://hawzah.net\"\n",
    "url_77 = base_url + \"/fa/Subjects/47895\"\n",
    "url_78 = base_url + \"/fa/Subjects/47894\"\n",
    "url_79 = base_url + \"/fa/Subjects/47893\"\n",
    "url_80 = base_url + \"/fa/Subjects/47892\""
   ]
  },
  {
   "cell_type": "code",
   "execution_count": 5,
   "id": "d14e3802",
   "metadata": {},
   "outputs": [],
   "source": [
    "def get_page_links(year_url):\n",
    "    request = requests.get(year_url)\n",
    "    response_content = request.content\n",
    "    soup = BeautifulSoup(response_content, 'html.parser')\n",
    "    pages_to_visit = []\n",
    "    for link in soup.find_all('a'):\n",
    "        link_str = link.get('href')\n",
    "        if link_str and 'امامت' in link_str:\n",
    "            pages_to_visit.append(base_url + link_str)\n",
    "        \n",
    "    return pages_to_visit"
   ]
  },
  {
   "cell_type": "code",
   "execution_count": 6,
   "id": "12b42cf3",
   "metadata": {},
   "outputs": [],
   "source": [
    "def get_text(pages, index, year):\n",
    "    request = requests.get(pages[index])\n",
    "    response_content = request.content\n",
    "    soup = BeautifulSoup(response_content, 'html.parser')\n",
    "    speech = []\n",
    "    for p in soup.find_all('p'):\n",
    "        if '<p class=' in str(p) and 'item-abstract hidden-xs' in str(p):\n",
    "            break\n",
    "        p = re.sub(r'<.+?>', '', str(p))\n",
    "        p_lst = list(p)\n",
    "        for i, char in enumerate(p_lst):\n",
    "            if ord(char) > 2000 or ord(char) < 1000:\n",
    "                p_lst[i] = ' '\n",
    "        p = \"\".join(p_lst)\n",
    "        words_lst = p.split()\n",
    "        speech.extend(words_lst)\n",
    "    n_words = len(speech)\n",
    "    name = get_name(pages[index])\n",
    "    \n",
    "    return {'year': year, 'speaker': name, 'speech': speech, 'n_words': n_words}"
   ]
  },
  {
   "cell_type": "code",
   "execution_count": 7,
   "id": "d5dece19",
   "metadata": {},
   "outputs": [],
   "source": [
    "def get_name(url):\n",
    "    name = re.search('امامت-.+?-.+?-.+?-', url)\n",
    "    if name:\n",
    "        name = name.group(0).replace('-', '')\n",
    "        name = name.replace('الله', '').replace('اله', '')\n",
    "        name = name.replace('آیت', '').replace('امامت', '')\n",
    "        return name\n",
    "    return \"NA\""
   ]
  },
  {
   "cell_type": "code",
   "execution_count": 8,
   "id": "4b90af54",
   "metadata": {},
   "outputs": [],
   "source": [
    "# year 1377\n",
    "pages = get_page_links(url_77)\n",
    "for index, _ in enumerate(pages):\n",
    "    row =  get_text(pages, index, '1387')\n",
    "    data.loc[len(data.index)] = row"
   ]
  },
  {
   "cell_type": "code",
   "execution_count": 9,
   "id": "3493c664",
   "metadata": {},
   "outputs": [],
   "source": [
    "# year 1378\n",
    "pages = get_page_links(url_78)\n",
    "for index, _ in enumerate(pages):\n",
    "    row =  get_text(pages, index, '1388')\n",
    "    data.loc[len(data.index)] = row"
   ]
  },
  {
   "cell_type": "code",
   "execution_count": 10,
   "id": "bd40463e",
   "metadata": {},
   "outputs": [],
   "source": [
    "# year 1379\n",
    "pages = get_page_links(url_79)\n",
    "for index, _ in enumerate(pages):\n",
    "    row =  get_text(pages, index, '1389')\n",
    "    data.loc[len(data.index)] = row"
   ]
  },
  {
   "cell_type": "code",
   "execution_count": 11,
   "id": "69c0cad5",
   "metadata": {},
   "outputs": [],
   "source": [
    "# year 1380\n",
    "pages = get_page_links(url_80)\n",
    "for index, _ in enumerate(pages):\n",
    "    row =  get_text(pages, index, '1390')\n",
    "    data.loc[len(data.index)] = row"
   ]
  },
  {
   "cell_type": "code",
   "execution_count": 12,
   "id": "5a9e46b2",
   "metadata": {},
   "outputs": [
    {
     "data": {
      "text/html": [
       "<div>\n",
       "<style scoped>\n",
       "    .dataframe tbody tr th:only-of-type {\n",
       "        vertical-align: middle;\n",
       "    }\n",
       "\n",
       "    .dataframe tbody tr th {\n",
       "        vertical-align: top;\n",
       "    }\n",
       "\n",
       "    .dataframe thead th {\n",
       "        text-align: right;\n",
       "    }\n",
       "</style>\n",
       "<table border=\"1\" class=\"dataframe\">\n",
       "  <thead>\n",
       "    <tr style=\"text-align: right;\">\n",
       "      <th></th>\n",
       "      <th>year</th>\n",
       "      <th>speaker</th>\n",
       "      <th>speech</th>\n",
       "      <th>n_words</th>\n",
       "    </tr>\n",
       "  </thead>\n",
       "  <tbody>\n",
       "    <tr>\n",
       "      <th>0</th>\n",
       "      <td>1387</td>\n",
       "      <td>جنتی</td>\n",
       "      <td>[حضور, پرشور, مردم, در, راهپیمایی, بهمن, درس, ...</td>\n",
       "      <td>710</td>\n",
       "    </tr>\n",
       "    <tr>\n",
       "      <th>1</th>\n",
       "      <td>1387</td>\n",
       "      <td>یزدی</td>\n",
       "      <td>[خطبه, اول, بسم, الله, الرحمن, الرحیم, الحمد, ...</td>\n",
       "      <td>6265</td>\n",
       "    </tr>\n",
       "    <tr>\n",
       "      <th>2</th>\n",
       "      <td>1387</td>\n",
       "      <td>رفسنجانی23</td>\n",
       "      <td>[خطبه, اول, بسم, الله, الرحمن, الرحیم, والصلاه...</td>\n",
       "      <td>6554</td>\n",
       "    </tr>\n",
       "    <tr>\n",
       "      <th>3</th>\n",
       "      <td>1387</td>\n",
       "      <td>جنتی</td>\n",
       "      <td>[خطبه, اول, بسم, الله, الرحمن, الرحیم, والصلاه...</td>\n",
       "      <td>5334</td>\n",
       "    </tr>\n",
       "    <tr>\n",
       "      <th>4</th>\n",
       "      <td>1387</td>\n",
       "      <td>کاشانی</td>\n",
       "      <td>[خطبه, اول, بسم, الله, الرحمن, الرحیم, نحمده, ...</td>\n",
       "      <td>5312</td>\n",
       "    </tr>\n",
       "    <tr>\n",
       "      <th>...</th>\n",
       "      <td>...</td>\n",
       "      <td>...</td>\n",
       "      <td>...</td>\n",
       "      <td>...</td>\n",
       "    </tr>\n",
       "    <tr>\n",
       "      <th>114</th>\n",
       "      <td>1390</td>\n",
       "      <td>یزدی</td>\n",
       "      <td>[بسم, الله, الرحمن, الرحیم, الحمد, لله, رب, ال...</td>\n",
       "      <td>9197</td>\n",
       "    </tr>\n",
       "    <tr>\n",
       "      <th>115</th>\n",
       "      <td>1390</td>\n",
       "      <td>جنتی</td>\n",
       "      <td>[بسم, الله, الرحمن, الرحیم, الحمد, لله, رب, ال...</td>\n",
       "      <td>4930</td>\n",
       "    </tr>\n",
       "    <tr>\n",
       "      <th>116</th>\n",
       "      <td>1390</td>\n",
       "      <td>هاشمی</td>\n",
       "      <td>[بسم, الله, الرحمن, الرحیم, الحمدلله, رب, العا...</td>\n",
       "      <td>5267</td>\n",
       "    </tr>\n",
       "    <tr>\n",
       "      <th>117</th>\n",
       "      <td>1390</td>\n",
       "      <td>کاشانی</td>\n",
       "      <td>[بسم, الله, الرحمن, الرحیم, الحمدالله, رب, الع...</td>\n",
       "      <td>3447</td>\n",
       "    </tr>\n",
       "    <tr>\n",
       "      <th>118</th>\n",
       "      <td>1390</td>\n",
       "      <td>یزدی</td>\n",
       "      <td>[بسم, الله, الرحمن, الرحیم, الحمد, لله, رب, ال...</td>\n",
       "      <td>6508</td>\n",
       "    </tr>\n",
       "  </tbody>\n",
       "</table>\n",
       "<p>119 rows × 4 columns</p>\n",
       "</div>"
      ],
      "text/plain": [
       "     year     speaker                                             speech  \\\n",
       "0    1387        جنتی  [حضور, پرشور, مردم, در, راهپیمایی, بهمن, درس, ...   \n",
       "1    1387        یزدی  [خطبه, اول, بسم, الله, الرحمن, الرحیم, الحمد, ...   \n",
       "2    1387  رفسنجانی23  [خطبه, اول, بسم, الله, الرحمن, الرحیم, والصلاه...   \n",
       "3    1387        جنتی  [خطبه, اول, بسم, الله, الرحمن, الرحیم, والصلاه...   \n",
       "4    1387      کاشانی  [خطبه, اول, بسم, الله, الرحمن, الرحیم, نحمده, ...   \n",
       "..    ...         ...                                                ...   \n",
       "114  1390        یزدی  [بسم, الله, الرحمن, الرحیم, الحمد, لله, رب, ال...   \n",
       "115  1390        جنتی  [بسم, الله, الرحمن, الرحیم, الحمد, لله, رب, ال...   \n",
       "116  1390       هاشمی  [بسم, الله, الرحمن, الرحیم, الحمدلله, رب, العا...   \n",
       "117  1390      کاشانی  [بسم, الله, الرحمن, الرحیم, الحمدالله, رب, الع...   \n",
       "118  1390        یزدی  [بسم, الله, الرحمن, الرحیم, الحمد, لله, رب, ال...   \n",
       "\n",
       "    n_words  \n",
       "0       710  \n",
       "1      6265  \n",
       "2      6554  \n",
       "3      5334  \n",
       "4      5312  \n",
       "..      ...  \n",
       "114    9197  \n",
       "115    4930  \n",
       "116    5267  \n",
       "117    3447  \n",
       "118    6508  \n",
       "\n",
       "[119 rows x 4 columns]"
      ]
     },
     "execution_count": 12,
     "metadata": {},
     "output_type": "execute_result"
    }
   ],
   "source": [
    "data"
   ]
  },
  {
   "cell_type": "code",
   "execution_count": 14,
   "id": "e6ff9a2c",
   "metadata": {},
   "outputs": [],
   "source": [
    "data.to_csv('../data/speeches_87to90.csv', sep='\\t')"
   ]
  },
  {
   "cell_type": "code",
   "execution_count": null,
   "id": "edbc2244",
   "metadata": {},
   "outputs": [],
   "source": []
  }
 ],
 "metadata": {
  "kernelspec": {
   "display_name": "Python 3 (ipykernel)",
   "language": "python",
   "name": "python3"
  },
  "language_info": {
   "codemirror_mode": {
    "name": "ipython",
    "version": 3
   },
   "file_extension": ".py",
   "mimetype": "text/x-python",
   "name": "python",
   "nbconvert_exporter": "python",
   "pygments_lexer": "ipython3",
   "version": "3.9.7"
  }
 },
 "nbformat": 4,
 "nbformat_minor": 5
}
